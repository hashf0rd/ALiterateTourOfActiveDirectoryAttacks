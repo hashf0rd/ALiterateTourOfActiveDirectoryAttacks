{
 "cells": [
  {
   "cell_type": "code",
   "execution_count": null,
   "metadata": {},
   "outputs": [],
   "source": [
    "$password = (ConvertTo-SecureString \"aclPass01\" -AsPlainText -Force)\n",
    "$credential = New-Object System.Management.Automation.PSCredential -ArgumentList (\"aclAdmin\", $password)\n",
    "$session = New-PSSession -ComputerName DC01 -Credential $credential"
   ]
  },
  {
   "cell_type": "markdown",
   "metadata": {},
   "source": [
    "# !! Important !!\n",
    "The above cell *must* be run first in order to bring the example AD environment up. The cell below should generate the output 'dc01' if the environment is running correctly."
   ]
  },
  {
   "cell_type": "code",
   "execution_count": null,
   "metadata": {},
   "outputs": [],
   "source": [
    "Invoke-Command -Session $session -ScriptBlock { hostname }"
   ]
  },
  {
   "cell_type": "markdown",
   "metadata": {},
   "source": []
  }
 ],
 "metadata": {
  "language_info": {
   "name": "python"
  }
 },
 "nbformat": 4,
 "nbformat_minor": 2
}
