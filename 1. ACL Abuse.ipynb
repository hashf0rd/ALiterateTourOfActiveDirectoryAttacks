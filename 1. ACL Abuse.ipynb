{
 "cells": [
  {
   "cell_type": "markdown",
   "metadata": {
    "vscode": {
     "languageId": "powershell"
    }
   },
   "source": [
    "# ACL Overview\n",
    "In the Windows operating system, everything is an object - that is, everything is represented by data structures in memory, that contain members that describe the nature of the data the structure is meant to represent. Obvious things such as files and registry keys are objects, but also more abstract things such as processes and threads are also objects.\n",
    "\n",
    "Active Directory is no different - AD is primarily a database of components that represent the various identities and relationships in a Windows network. Each object or component in an AD environment is a user, a group, a computer, a printer, a service account, or even a container for any of these.\n",
    "\n",
    "Again, as in the Windows operating system, Active Directory objects control who has access via Access Control Lists or ACLs (specifically the **D**iscretionary **A**ccess **C**ontrol List or _DACL_), with each Access Control Entry (or ACE) in the ACL specifying an identity (formally called a security principal) and what specific access rights that identity can excise on the object.\n",
    "\n",
    "Access rights are incredibly powerful - the demonstration below is not exhaustive, but it will be become apparent how destructive a misconfiured ACE on the wrong object can be. Notably however, many of the attacks that are enabled by these access rights are detailed in their own notebooks, making understanding what objects have rights over other objects one of the fundamental tasks in reconaissance, and in understanding the attack paths through an AD environment.\n",
    "\n",
    "## WriteProperty\n",
    "The first right to examine is `WriteProperty`. This right, as the name implies, grants a principal the capability to modify properties on another object."
   ]
  },
  {
   "cell_type": "code",
   "execution_count": 9,
   "metadata": {
    "dotnet_interactive": {
     "language": "pwsh"
    },
    "polyglot_notebook": {
     "kernelName": "pwsh"
    },
    "vscode": {
     "languageId": "polyglot-notebook"
    }
   },
   "outputs": [
    {
     "name": "stdout",
     "output_type": "stream",
     "text": [
      "\n",
      "\u001b[32;1mName                          \u001b[0m\u001b[32;1m Value\u001b[0m\n",
      "\u001b[32;1m----                          \u001b[0m \u001b[32;1m-----\u001b[0m\n",
      "objectclass                    {top, group}\n",
      "admincount                     {1}\n",
      "objectsid                      {1 2 0 0 0 0 0 5 32 0 0 0 32 2 0 0}\n",
      "cn                             {Administrators}\n",
      "adspath                        {LDAP://dc01.aclabuse.lab/CN=Administrators,CN=Builtin,DC=aclabuse,…\n",
      "iscriticalsystemobject         {True}\n",
      "dscorepropagationdata          {8/26/2024 6:13:54 PM, 8/26/2024 5:58:42 PM, 1/1/1601 12:04:16 AM}\n",
      "member                         {CN=Domain Admins,CN=Users,DC=aclabuse,DC=lab, CN=Enterprise Admins…\n",
      "samaccounttype                 {536870912}\n",
      "instancetype                   {4}\n",
      "whencreated                    {8/26/2024 5:57:59 PM}\n",
      "objectcategory                 {CN=Group,CN=Schema,CN=Configuration,DC=aclabuse,DC=lab}\n",
      "usncreated                     {8200}\n",
      "description                    {Administrators have complete and unrestricted access to the comput…\n",
      "distinguishedname              {CN=Administrators,CN=Builtin,DC=aclabuse,DC=lab}\n",
      "whenchanged                    {8/26/2024 6:13:54 PM}\n",
      "name                           {Administrators}\n",
      "grouptype                      {-2147483643}\n",
      "usnchanged                     {12836}\n",
      "samaccountname                 {Administrators}\n",
      "objectguid                     {6 128 134 155 59 190 54 70 190 123 68 68 37 46 112 130}\n",
      "systemflags                    {-1946157056}\n",
      "\n"
     ]
    }
   ],
   "source": [
    "$domain = New-Object DirectoryServices.DirectoryEntry(\"LDAP://dc01.aclabuse.lab\",\"domain\\jane.doe\", \"janesPass01\")\n",
    "$searcher = New-Object System.DirectoryServices.DirectorySearcher($domain)\n",
    "$searcher.Filter = \"(objectCategory=group)\"\n",
    "$searcher.FindOne().Properties"
   ]
  },
  {
   "cell_type": "markdown",
   "metadata": {},
   "source": [
    "## Self"
   ]
  },
  {
   "cell_type": "code",
   "execution_count": 1,
   "metadata": {
    "dotnet_interactive": {
     "language": "csharp"
    },
    "polyglot_notebook": {
     "kernelName": "csharp"
    },
    "vscode": {
     "languageId": "polyglot-notebook"
    }
   },
   "outputs": [],
   "source": []
  },
  {
   "cell_type": "markdown",
   "metadata": {},
   "source": [
    "## WriteDACL"
   ]
  },
  {
   "cell_type": "code",
   "execution_count": null,
   "metadata": {
    "dotnet_interactive": {
     "language": "csharp"
    },
    "polyglot_notebook": {
     "kernelName": "csharp"
    },
    "vscode": {
     "languageId": "polyglot-notebook"
    }
   },
   "outputs": [],
   "source": []
  },
  {
   "cell_type": "markdown",
   "metadata": {},
   "source": [
    "## WriteOwner"
   ]
  },
  {
   "cell_type": "code",
   "execution_count": null,
   "metadata": {
    "dotnet_interactive": {
     "language": "csharp"
    },
    "polyglot_notebook": {
     "kernelName": "csharp"
    },
    "vscode": {
     "languageId": "polyglot-notebook"
    }
   },
   "outputs": [],
   "source": []
  },
  {
   "cell_type": "markdown",
   "metadata": {},
   "source": [
    "## ExtendedRights"
   ]
  },
  {
   "cell_type": "code",
   "execution_count": null,
   "metadata": {
    "dotnet_interactive": {
     "language": "csharp"
    },
    "polyglot_notebook": {
     "kernelName": "csharp"
    },
    "vscode": {
     "languageId": "polyglot-notebook"
    }
   },
   "outputs": [],
   "source": []
  },
  {
   "cell_type": "markdown",
   "metadata": {},
   "source": [
    "## GenericWrite"
   ]
  },
  {
   "cell_type": "code",
   "execution_count": null,
   "metadata": {
    "dotnet_interactive": {
     "language": "csharp"
    },
    "polyglot_notebook": {
     "kernelName": "csharp"
    },
    "vscode": {
     "languageId": "polyglot-notebook"
    }
   },
   "outputs": [],
   "source": []
  },
  {
   "cell_type": "markdown",
   "metadata": {},
   "source": [
    "## GenericAll"
   ]
  },
  {
   "cell_type": "markdown",
   "metadata": {},
   "source": []
  }
 ],
 "metadata": {
  "kernelspec": {
   "display_name": ".NET (C#)",
   "language": "C#",
   "name": ".net-csharp"
  },
  "language_info": {
   "name": "csharp"
  },
  "polyglot_notebook": {
   "kernelInfo": {
    "defaultKernelName": "csharp",
    "items": [
     {
      "aliases": [],
      "name": "csharp"
     }
    ]
   }
  }
 },
 "nbformat": 4,
 "nbformat_minor": 2
}
