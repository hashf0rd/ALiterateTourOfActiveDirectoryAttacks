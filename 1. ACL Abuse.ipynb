{
 "cells": [
  {
   "cell_type": "markdown",
   "metadata": {
    "vscode": {
     "languageId": "powershell"
    }
   },
   "source": [
    "# ACL Overview\n",
    "In the Windows operating system, everything is an object - that is, everything is represented by data structures in memory, that contain members that describe the nature of the data the structure is meant to represent. Obvious things such as files and registry keys are objects, but also more abstract things such as processes and threads are also objects.\n",
    "\n",
    "Active Directory is no different - AD is primarily a database of components that represent the various identities and relationships in a Windows network. Each object or component in an AD environment is a user, a group, a computer, a printer, a service account, or even a container for any of these.\n",
    "\n",
    "Again, as in the Windows operating system, Active Directory objects control who has access via Access Control Lists or ACLs (specifically the **D**iscretionary **A**ccess **C**ontrol List or _DACL_), with each Access Control Entry (or ACE) in the ACL specifying an identity (formally called a security principal) and what specific access rights that identity can excise on the object.\n",
    "\n",
    "Access rights are incredibly powerful - the demonstration below is not exhaustive, but it will be become apparent how destructive a misconfiured ACE on the wrong object can be. Notably however, many of the attacks that are enabled by these access rights are detailed in their own notebooks, making understanding what objects have rights over other objects one of the fundamental tasks in reconaissance, and in understanding the attack paths through an AD environment.  \n",
    "\n",
    "This lab will focus on an attack path that relies entirely on misconfigured ACLs. While this is a contrived example, it will demonstrate how these attacks paths work, and lay important foundations for other labs. If you skip any lab, do not skip this one! \n",
    "\n",
    "For this lab, we will assume we have access to the account of a user called \"John Dee\" by some initial access technique."
   ]
  },
  {
   "cell_type": "code",
   "execution_count": 4,
   "metadata": {
    "dotnet_interactive": {
     "language": "pwsh"
    },
    "polyglot_notebook": {
     "kernelName": "pwsh"
    },
    "vscode": {
     "languageId": "polyglot-notebook"
    }
   },
   "outputs": [
    {
     "name": "stdout",
     "output_type": "stream",
     "text": [
      "IdentityReference: NT AUTHORITY\\Authenticated Users\n",
      "AccessControlType: Allow\n",
      "IdentityReference: NT AUTHORITY\\SYSTEM\n",
      "AccessControlType: Allow\n",
      "IdentityReference: BUILTIN\\Administrators\n",
      "AccessControlType: Allow\n",
      "IdentityReference: S-1-5-21-134974639-3553680865-2577818021-512\n",
      "AccessControlType: Allow\n",
      "IdentityReference: S-1-5-21-134974639-3553680865-2577818021-519\n",
      "AccessControlType: Allow\n",
      "IdentityReference: S-1-5-21-134974639-3553680865-2577818021-1106\n",
      "AccessControlType: Allow\n",
      "IdentityReference: Everyone\n",
      "AccessControlType: Allow\n",
      "IdentityReference: NT AUTHORITY\\SELF\n",
      "AccessControlType: Allow\n",
      "IdentityReference: NT AUTHORITY\\SELF\n",
      "AccessControlType: Allow\n",
      "IdentityReference: S-1-5-32-554\n",
      "AccessControlType: Allow\n",
      "IdentityReference: S-1-5-32-554\n",
      "AccessControlType: Allow\n",
      "IdentityReference: S-1-5-32-554\n",
      "AccessControlType: Allow\n",
      "IdentityReference: S-1-5-32-554\n",
      "AccessControlType: Allow\n",
      "IdentityReference: S-1-5-32-554\n",
      "AccessControlType: Allow\n",
      "IdentityReference: S-1-5-32-554\n",
      "AccessControlType: Allow\n",
      "IdentityReference: S-1-5-32-554\n",
      "AccessControlType: Allow\n",
      "IdentityReference: S-1-5-32-554\n",
      "AccessControlType: Allow\n",
      "IdentityReference: S-1-5-32-554\n",
      "AccessControlType: Allow\n",
      "IdentityReference: S-1-5-32-554\n",
      "AccessControlType: Allow\n",
      "IdentityReference: S-1-5-32-560\n",
      "AccessControlType: Allow\n",
      "IdentityReference: S-1-5-32-561\n",
      "AccessControlType: Allow\n",
      "IdentityReference: S-1-5-32-561\n",
      "AccessControlType: Allow\n",
      "IdentityReference: S-1-5-21-134974639-3553680865-2577818021-517\n",
      "AccessControlType: Allow\n"
     ]
    }
   ],
   "source": [
    "$domainController = \"dc01.aclabuse.lab\"\n",
    "$userName = \"john.dee\"\n",
    "$creds = \"johnsPass01\"\n",
    "$domainName = \"aclabuse.lab\"\n",
    "$domain = New-Object DirectoryServices.DirectoryEntry(\"LDAP://$domainController\",\"$domainName\\$userName\", $creds)\n",
    "$searcher = New-Object System.DirectoryServices.DirectorySearcher($domain)\n",
    "\n",
    "$searcher.Filter = \"(&(objectCategory=group)(objectClass=group)(cn=*admin*))\"\n",
    "$groups = $searcher.FindOne()\n",
    "\n",
    "foreach ($group in $groups) {\n",
    "    $groupDN = $group.Properties[\"distinguishedname\"][0]\n",
    "    $groupName = $group.Properties[\"cn\"][0]\n",
    "    # Get the DACL of the group\n",
    "    $groupEntry = $group.GetDirectoryEntry()\n",
    "    $groupACL = $groupEntry.ObjectSecurity.GetAccessRules($true, $true, [System.Security.Principal.NTAccount])\n",
    "    foreach ($ace in $groupACL) {\n",
    "        if ($ace.IdentityReference == \"$domainName\\$userName\") {\n",
    "        Write-Host \"DN: $groupDN Name: $groupName\"\n",
    "        Write-Host \"AccessControlType: $($ace.AccessControlType)\"\n",
    "        Write-Host \"AccessControlType: $($ace.ActiveDirectory)\"\n",
    "    }\n",
    "\n",
    "}\n"
   ]
  },
  {
   "cell_type": "markdown",
   "metadata": {},
   "source": [
    "## WriteProperty\n",
    "The first right to examine is `WriteProperty`. This right, as the name implies, grants a principal the capability to modify properties on another object."
   ]
  },
  {
   "cell_type": "code",
   "execution_count": null,
   "metadata": {
    "dotnet_interactive": {
     "language": "pwsh"
    },
    "polyglot_notebook": {
     "kernelName": "pwsh"
    },
    "vscode": {
     "languageId": "polyglot-notebook"
    }
   },
   "outputs": [],
   "source": []
  },
  {
   "cell_type": "markdown",
   "metadata": {},
   "source": [
    "## WriteDACL"
   ]
  },
  {
   "cell_type": "code",
   "execution_count": null,
   "metadata": {
    "dotnet_interactive": {
     "language": "pwsh"
    },
    "polyglot_notebook": {
     "kernelName": "pwsh"
    },
    "vscode": {
     "languageId": "polyglot-notebook"
    }
   },
   "outputs": [],
   "source": []
  },
  {
   "cell_type": "markdown",
   "metadata": {},
   "source": [
    "## GenericWrite"
   ]
  },
  {
   "cell_type": "code",
   "execution_count": null,
   "metadata": {
    "dotnet_interactive": {
     "language": "pwsh"
    },
    "polyglot_notebook": {
     "kernelName": "pwsh"
    },
    "vscode": {
     "languageId": "polyglot-notebook"
    }
   },
   "outputs": [],
   "source": []
  },
  {
   "cell_type": "markdown",
   "metadata": {},
   "source": [
    "## GenericAll"
   ]
  },
  {
   "cell_type": "markdown",
   "metadata": {},
   "source": []
  }
 ],
 "metadata": {
  "kernelspec": {
   "display_name": ".NET (C#)",
   "language": "C#",
   "name": ".net-csharp"
  },
  "language_info": {
   "name": "csharp"
  },
  "polyglot_notebook": {
   "kernelInfo": {
    "defaultKernelName": "csharp",
    "items": [
     {
      "aliases": [],
      "name": "csharp"
     }
    ]
   }
  }
 },
 "nbformat": 4,
 "nbformat_minor": 2
}
