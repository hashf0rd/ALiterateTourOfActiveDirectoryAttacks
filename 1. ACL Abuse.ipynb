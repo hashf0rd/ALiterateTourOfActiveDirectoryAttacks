{
 "cells": [
  {
   "cell_type": "markdown",
   "metadata": {
    "vscode": {
     "languageId": "powershell"
    }
   },
   "source": [
    "# ACL Overview\n",
    "In the Windows operating system, everything is an object - that is, everything is represented by data structures in memory, that contain members that describe the nature of the data the structure is meant to represent. Obvious things such as files and registry keys are objects, but also more abstract things such as processes and threads are also objects.\n",
    "\n",
    "Active Directory is no different - AD is primarily a database of components that represent the various identities and relationships in a Windows network. Each object or component in an AD environment is a user, a group, a computer, a printer, a service account, or even a container for any of these.\n",
    "\n",
    "Again, as in the Windows operating system, Active Directory objects control who has access via Access Control Lists or ACLs (specifically the **D**iscretionary **A**ccess **C**ontrol List or _DACL_), with each Access Control Entry (or ACE) in the ACL specifying an identity (formally called a security principal) and what specific access rights that identity can excise on the object.\n",
    "\n",
    "Access rights are incredibly powerful - the demonstration below is not exhaustive, but it will be become apparent how destructive a misconfiured ACE on the wrong object can be. Notably however, many of the attacks that are enabled by these access rights are detailed in their own notebooks, making understanding what objects have rights over other objects one of the fundamental tasks in reconaissance, and in understanding the attack paths through an AD environment.  \n",
    "\n",
    "## WriteProperty\n",
    "The first right to examine is `WriteProperty`. This right, as the name implies, grants a principal the capability to modify properties on another object.\n",
    "\n",
    "First, some recon.  We will assume we have access to the account of a user called \"Jane Doe\" by some initial access technique. This user is part of the following groups:\n"
   ]
  },
  {
   "cell_type": "code",
   "execution_count": null,
   "metadata": {
    "vscode": {
     "languageId": "polyglot-notebook"
    }
   },
   "outputs": [],
   "source": []
  },
  {
   "cell_type": "markdown",
   "metadata": {},
   "source": [
    "Next we will construct an LDAP query to look for AD objects that we have this access right on.\n",
    "\n",
    "_LDAP_MATCHING_RULE_BIT_AND_ = 1.2.840.113556.1.4.803  \n",
    "_LDAP_MATCHING_RULE_BIT_OR_ = 1.2.840.113556.1.4.804\n",
    "\t\n",
    "The usage in an LDAP query follows this format `attr:oneoftheaboveOIDs:=value`.\n",
    "\n",
    "__D:__ indicates a DACL (Discretionary Access Control List)\n",
    "\n",
    "(A;;WP;;;S-1-5-21-xxxxxxxxx-xxxxxxxxx-xxxxxxxxx-xxxx) is an Access Control Entry (ACE) where:\n",
    "- __A__ means \"Allow\"\n",
    "- __WP__ is the abbreviation for WriteProperty\n",
    "\n",
    "The last part is the SID (Security Identifier) of the user\n",
    "https://learn.microsoft.com/en-us/openspecs/windows_protocols/ms-adts/4e638665-f466-4597-93c4-12f2ebfabab5"
   ]
  },
  {
   "cell_type": "code",
   "execution_count": 44,
   "metadata": {
    "dotnet_interactive": {
     "language": "pwsh"
    },
    "polyglot_notebook": {
     "kernelName": "pwsh"
    },
    "vscode": {
     "languageId": "polyglot-notebook"
    }
   },
   "outputs": [
    {
     "name": "stdout",
     "output_type": "stream",
     "text": [
      "0\n",
      "2\n"
     ]
    }
   ],
   "source": [
    "$domain = New-Object DirectoryServices.DirectoryEntry(\"LDAP://dc01.aclabuse.lab\",\"aclabuse\\jane.doe\", \"janesPass01\")\n",
    "$searcher = New-Object System.DirectoryServices.DirectorySearcher($domain)\n",
    "$searcher.Filter = \"(&(objectClass=user)(sAMAccountName=jane.doe))\"\n",
    "$searcher.PropertiesToLoad.Add(\"objectSid\")\n",
    "$sidBytes = $searcher.FindAll().Properties[\"objectSid\"][0]\n",
    "$userSid = (New-Object System.Security.Principal.SecurityIdentifier($sidBytes, 0)).ToString()\n",
    "$searcher.Filter = \"(&(objectClass=group)(nTSecurityDescriptor:1.2.840.113556.1.4.803:=D:(A;;WP;;;$userSid)))\"\n",
    "$searcher.PropertiesToLoad.Add(\"name\")\n",
    "$result = $searcher.FindOne().Properties\n",
    "$result"
   ]
  },
  {
   "cell_type": "markdown",
   "metadata": {},
   "source": [
    "## Self"
   ]
  },
  {
   "cell_type": "code",
   "execution_count": 1,
   "metadata": {
    "dotnet_interactive": {
     "language": "csharp"
    },
    "polyglot_notebook": {
     "kernelName": "csharp"
    },
    "vscode": {
     "languageId": "polyglot-notebook"
    }
   },
   "outputs": [],
   "source": []
  },
  {
   "cell_type": "markdown",
   "metadata": {},
   "source": [
    "## WriteDACL"
   ]
  },
  {
   "cell_type": "code",
   "execution_count": null,
   "metadata": {
    "dotnet_interactive": {
     "language": "csharp"
    },
    "polyglot_notebook": {
     "kernelName": "csharp"
    },
    "vscode": {
     "languageId": "polyglot-notebook"
    }
   },
   "outputs": [],
   "source": []
  },
  {
   "cell_type": "markdown",
   "metadata": {},
   "source": [
    "## WriteOwner"
   ]
  },
  {
   "cell_type": "code",
   "execution_count": null,
   "metadata": {
    "dotnet_interactive": {
     "language": "csharp"
    },
    "polyglot_notebook": {
     "kernelName": "csharp"
    },
    "vscode": {
     "languageId": "polyglot-notebook"
    }
   },
   "outputs": [],
   "source": []
  },
  {
   "cell_type": "markdown",
   "metadata": {},
   "source": [
    "## ExtendedRights"
   ]
  },
  {
   "cell_type": "code",
   "execution_count": null,
   "metadata": {
    "dotnet_interactive": {
     "language": "csharp"
    },
    "polyglot_notebook": {
     "kernelName": "csharp"
    },
    "vscode": {
     "languageId": "polyglot-notebook"
    }
   },
   "outputs": [],
   "source": []
  },
  {
   "cell_type": "markdown",
   "metadata": {},
   "source": [
    "## GenericWrite"
   ]
  },
  {
   "cell_type": "code",
   "execution_count": null,
   "metadata": {
    "dotnet_interactive": {
     "language": "csharp"
    },
    "polyglot_notebook": {
     "kernelName": "csharp"
    },
    "vscode": {
     "languageId": "polyglot-notebook"
    }
   },
   "outputs": [],
   "source": []
  },
  {
   "cell_type": "markdown",
   "metadata": {},
   "source": [
    "## GenericAll"
   ]
  },
  {
   "cell_type": "markdown",
   "metadata": {},
   "source": []
  }
 ],
 "metadata": {
  "kernelspec": {
   "display_name": ".NET (C#)",
   "language": "C#",
   "name": ".net-csharp"
  },
  "language_info": {
   "name": "csharp"
  },
  "polyglot_notebook": {
   "kernelInfo": {
    "defaultKernelName": "csharp",
    "items": [
     {
      "aliases": [],
      "name": "csharp"
     }
    ]
   }
  }
 },
 "nbformat": 4,
 "nbformat_minor": 2
}
