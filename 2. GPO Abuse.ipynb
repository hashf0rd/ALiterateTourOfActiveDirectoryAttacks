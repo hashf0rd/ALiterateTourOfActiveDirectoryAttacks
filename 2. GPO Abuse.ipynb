{
 "cells": [
  {
   "cell_type": "code",
   "execution_count": 1,
   "metadata": {
    "dotnet_interactive": {
     "language": "pwsh"
    },
    "polyglot_notebook": {
     "kernelName": "pwsh"
    },
    "vscode": {
     "languageId": "polyglot-notebook"
    }
   },
   "outputs": [
    {
     "name": "stdout",
     "output_type": "stream",
     "text": [
      "CN=John Dee,OU=EnterpriseUsers,DC=gpoabuse,DC=lab\n",
      "Groups:\n",
      "    CN=Office Admins,OU=EnterpriseUsers,DC=gpoabuse,DC=lab\n"
     ]
    }
   ],
   "source": [
    "$dirEntry = New-Object System.DirectoryServices.DirectoryEntry(\"LDAP://dc01.gpoabuse.lab\", \"gpoabuse.lab\\john.dee\", \"johnsPass01\")\n",
    "$searcher = New-Object System.DirectoryServices.DirectorySearcher($dirEntry)\n",
    "$searcher.Filter = \"(&(objectCategory=user)(samAccountName=john.dee))\"\n",
    "$results = $searcher.FindOne()\n",
    "$results.Properties.distinguishedname\n",
    "\"Groups:\"\n",
    "foreach ($group in $($results.Properties.memberof)) {\n",
    "    \"    $group\"\n",
    "}"
   ]
  },
  {
   "cell_type": "code",
   "execution_count": 2,
   "metadata": {
    "dotnet_interactive": {
     "language": "pwsh"
    },
    "polyglot_notebook": {
     "kernelName": "pwsh"
    },
    "vscode": {
     "languageId": "polyglot-notebook"
    }
   },
   "outputs": [
    {
     "name": "stdout",
     "output_type": "stream",
     "text": [
      "S-1-5-21-979066922-3318582297-4097118301-1107\r\n"
     ]
    }
   ],
   "source": [
    "$searcher.Filter = \"(&(objectCategory=group)(cn=Office Admins))\"\n",
    "$results = $searcher.FindOne()\n",
    "$groupSID = (New-Object System.Security.Principal.SecurityIdentifier([Byte[]]$results.Properties.objectsid[0],0))\n",
    "$groupSID.Value"
   ]
  },
  {
   "cell_type": "code",
   "execution_count": 3,
   "metadata": {
    "dotnet_interactive": {
     "language": "pwsh"
    },
    "polyglot_notebook": {
     "kernelName": "pwsh"
    },
    "vscode": {
     "languageId": "polyglot-notebook"
    }
   },
   "outputs": [
    {
     "name": "stdout",
     "output_type": "stream",
     "text": [
      "Allow -> CreateChild, DeleteChild, ReadProperty, WriteProperty, Delete, GenericExecute, WriteDacl, WriteOwner on GPO 'SetWallapper'\r\n"
     ]
    }
   ],
   "source": [
    "$searcher.Filter = \"(objectCategory=groupPolicyContainer)\"\n",
    "$searcher.SecurityMasks = [System.DirectoryServices.SecurityMasks]::Dacl\n",
    "$groupPolicyObjects = $searcher.FindAll() \n",
    "\n",
    "foreach ($gpo in $groupPolicyObjects) {\n",
    "    # Get the ACL from the binary nTSecurityDescriptor property\n",
    "    $SecurityDescriptor = New-Object System.DirectoryServices.ActiveDirectorySecurity\n",
    "    $SecurityDescriptor.SetSecurityDescriptorBinaryForm([Byte[]]$gpo.Properties[\"nTSecurityDescriptor\"][0])\n",
    "    $gpoACL = $SecurityDescriptor.GetAccessRules($true, $true, [System.Security.Principal.SecurityIdentifier])\n",
    "\n",
    "    # Iterate through the ACLs of each GPO, looking for the targetSID\n",
    "    foreach ($ace in $gpoACL) {\n",
    "        if ($ace.IdentityReference.CompareTo($groupSID) -eq 0) {\n",
    "            $gpoDN = $gpo.Properties.distinguishedname\n",
    "            $gpoDisplayName = $gpo.Properties.displayname\n",
    "            $gpoPath = $gpo.Properties.adspath\n",
    "            Write-Host \"$($ace.AccessControlType) -> $($ace.ActiveDirectoryRights) on GPO '$gpoDisplayName'\"\n",
    "        }\n",
    "    }\n",
    "}\n",
    "$dirEntry.Dispose()\n",
    "$groupPolicyObjects.Dispose()"
   ]
  },
  {
   "cell_type": "code",
   "execution_count": 4,
   "metadata": {
    "dotnet_interactive": {
     "language": "pwsh"
    },
    "polyglot_notebook": {
     "kernelName": "pwsh"
    },
    "vscode": {
     "languageId": "polyglot-notebook"
    }
   },
   "outputs": [
    {
     "name": "stdout",
     "output_type": "stream",
     "text": [
      "CN={E8F1E2C0-7D8D-439F-91A5-A5D6736EBD70},CN=Policies,CN=System,DC=gpoabuse,DC=lab\r\n"
     ]
    }
   ],
   "source": [
    "$gpoDN"
   ]
  },
  {
   "cell_type": "code",
   "execution_count": 5,
   "metadata": {
    "dotnet_interactive": {
     "language": "pwsh"
    },
    "polyglot_notebook": {
     "kernelName": "pwsh"
    },
    "vscode": {
     "languageId": "polyglot-notebook"
    }
   },
   "outputs": [
    {
     "name": "stdout",
     "output_type": "stream",
     "text": [
      "'SetWallapper' is linked to EnterpriseUsers\r\n"
     ]
    }
   ],
   "source": [
    "$dirEntry = New-Object System.DirectoryServices.DirectoryEntry(\"LDAP://dc01.gpoabuse.lab\", \"gpoabuse.lab\\john.dee\", \"johnsPass01\")\n",
    "$searcher = New-Object System.DirectoryServices.DirectorySearcher($dirEntry)\n",
    "$searcher.Filter = \"(objectCategory=organizationalUnit)\"\n",
    "$ouResult = $searcher.FindAll()\n",
    "ForEach ($ou in $ouResult) {\n",
    "    if (($ou.Properties.gplink) -match $gpoDN) {\n",
    "        \"'$gpoDisplayName' is linked to $($ou.Properties.name)\"\n",
    "    }\n",
    "}\n",
    "\n",
    "$dirEntry.Dispose()\n",
    "$ouResult.Dispose()"
   ]
  },
  {
   "cell_type": "code",
   "execution_count": 13,
   "metadata": {
    "dotnet_interactive": {
     "language": "pwsh"
    },
    "polyglot_notebook": {
     "kernelName": "pwsh"
    },
    "vscode": {
     "languageId": "polyglot-notebook"
    }
   },
   "outputs": [
    {
     "name": "stdout",
     "output_type": "stream",
     "text": [
      "\n",
      "\u001b[32;1mname                     : \u001b[0m{{E8F1E2C0-7D8D-439F-91A5-A5D6736EBD70}}\n",
      "\u001b[32;1mdistinguishedname        : \u001b[0m{CN={E8F1E2C0-7D8D-439F-91A5-A5D6736EBD70},CN=Policies,CN=System,DC=gpoa\n",
      "                           buse,DC=lab}\n",
      "\u001b[32;1mobjectCategory           : \u001b[0m{CN=Group-Policy-Container,CN=Schema,CN=Configuration,DC=gpoabuse,DC=lab\n",
      "                           }\n",
      "\u001b[32;1mgPCFileSysPath           : \u001b[0m{\\\\gpoabuse.lab\\SysVol\\gpoabuse.lab\\Policies\\{E8F1E2C0-7D8D-439F-91A5-A5\n",
      "                           D6736EBD70}}\n",
      "\u001b[32;1mgPCMachineExtensionNames : \u001b[0m{[{35378EAC-683F-11D2-A89A-00C04FBBCFA2}{D02B1F72-3407-48AE-BA88-E8213C6\n",
      "                           761F1}]}\n",
      "\u001b[32;1mgPCUserExtensionNames    : \u001b[0m{[{35378EAC-683F-11D2-A89A-00C04FBBCFA2}{D02B1F73-3407-48AE-BA88-E8213C6\n",
      "                           761F1}]}\n",
      "\n"
     ]
    }
   ],
   "source": [
    "$gpoEntry = New-Object System.DirectoryServices.DirectoryEntry($gpoPath, \"gpoabuse.lab\\john.dee\", \"johnsPass01\")\n",
    "$gpoEntry | select name, distinguishedname, objectCategory, gPCFileSysPath, gPCMachineExtensionNames, gPCUserExtensionNames\n",
    "$gpoGUID = $gpoEntry.Properties['name']"
   ]
  },
  {
   "cell_type": "code",
   "execution_count": null,
   "metadata": {
    "dotnet_interactive": {
     "language": "pwsh"
    },
    "polyglot_notebook": {
     "kernelName": "pwsh"
    },
    "vscode": {
     "languageId": "polyglot-notebook"
    }
   },
   "outputs": [
    {
     "name": "stdout",
     "output_type": "stream",
     "text": [
      "\u001b[31;1mNew-SmbMapping: \u001b[0m\n",
      "\u001b[31;1m\u001b[36;1mLine |\u001b[0m\n",
      "\u001b[31;1m\u001b[36;1m\u001b[36;1m   2 | \u001b[0m \u001b[36;1mNew-SmbMapping -Localpath \"X:\" -RemotePath \"\\\\dc01.gpoabuse.lab\\SysVo\u001b[0m …\u001b[0m\n",
      "\u001b[31;1m\u001b[36;1m\u001b[36;1m\u001b[0m\u001b[36;1m\u001b[0m\u001b[36;1m     | \u001b[31;1m ~~~~~~~~~~~~~~~~~~~~~~~~~~~~~~~~~~~~~~~~~~~~~~~~~~~~~~~~~~~~~~~~~~~~~\u001b[0m\n",
      "\u001b[31;1m\u001b[36;1m\u001b[36;1m\u001b[0m\u001b[36;1m\u001b[0m\u001b[36;1m\u001b[31;1m\u001b[31;1m\u001b[36;1m     | \u001b[31;1mThe local device name is already in use. \u001b[0m\n"
     ]
    },
    {
     "ename": "Error",
     "evalue": "The local device name is already in use. ",
     "output_type": "error",
     "traceback": [
      "The local device name is already in use. "
     ]
    }
   ],
   "source": [
    "New-SmbMapping -Localpath \"X:\" -RemotePath \"\\\\dc01.gpoabuse.lab\\SysVol\\gpoabuse.lab\\Policies\\\" -UserName \"gpoabuse\\john.dee\" -Password \"johnsPass01\""
   ]
  },
  {
   "cell_type": "code",
   "execution_count": 16,
   "metadata": {
    "dotnet_interactive": {
     "language": "pwsh"
    },
    "polyglot_notebook": {
     "kernelName": "pwsh"
    },
    "vscode": {
     "languageId": "polyglot-notebook"
    }
   },
   "outputs": [],
   "source": [
    "Set-Location X:\\$gpoGUID"
   ]
  },
  {
   "cell_type": "code",
   "execution_count": 17,
   "metadata": {
    "dotnet_interactive": {
     "language": "pwsh"
    },
    "polyglot_notebook": {
     "kernelName": "pwsh"
    },
    "vscode": {
     "languageId": "polyglot-notebook"
    }
   },
   "outputs": [
    {
     "name": "stdout",
     "output_type": "stream",
     "text": [
      "\n",
      "    Directory: X:\\{E8F1E2C0-7D8D-439F-91A5-A5D6736EBD70}\n",
      "\n",
      "\u001b[32;1mMode   \u001b[0m\u001b[32;1m              LastWriteTime\u001b[0m \u001b[32;1;3m        Length\u001b[0m\u001b[32;1m Name\u001b[0m\n",
      "\u001b[32;1m----   \u001b[0m \u001b[32;1m             -------------\u001b[0m \u001b[32;1m        ------\u001b[0m \u001b[32;1m----\u001b[0m\n",
      "d----            2/9/2025 11:37 PM                \u001b[44;1mMachine\u001b[0m\n",
      "d----            2/9/2025 11:37 PM                \u001b[44;1mUser\u001b[0m\n",
      "-a---            2/9/2025 11:37 PM             70 GPO.cmt\n",
      "-a---            2/9/2025 11:37 PM             64 GPT.INI\n",
      "\n"
     ]
    }
   ],
   "source": [
    "ls "
   ]
  },
  {
   "cell_type": "code",
   "execution_count": 18,
   "metadata": {
    "dotnet_interactive": {
     "language": "pwsh"
    },
    "polyglot_notebook": {
     "kernelName": "pwsh"
    },
    "vscode": {
     "languageId": "polyglot-notebook"
    }
   },
   "outputs": [
    {
     "name": "stdout",
     "output_type": "stream",
     "text": [
      "\n",
      "\u001b[32;1mFileSystemRights  : \u001b[0mFullControl\n",
      "\u001b[32;1mAccessControlType : \u001b[0mAllow\n",
      "\u001b[32;1mIdentityReference : \u001b[0mS-1-5-21-979066922-3318582297-4097118301-1107\n",
      "\u001b[32;1mIsInherited       : \u001b[0mFalse\n",
      "\u001b[32;1mInheritanceFlags  : \u001b[0mContainerInherit, ObjectInherit\n",
      "\u001b[32;1mPropagationFlags  : \u001b[0mNone\n",
      "\n"
     ]
    }
   ],
   "source": [
    "(Get-ACL X:\\$gpoGUID).Access | where { $_.IdentityReference -match $groupSID }"
   ]
  },
  {
   "cell_type": "code",
   "execution_count": 19,
   "metadata": {
    "dotnet_interactive": {
     "language": "pwsh"
    },
    "polyglot_notebook": {
     "kernelName": "pwsh"
    },
    "vscode": {
     "languageId": "polyglot-notebook"
    }
   },
   "outputs": [
    {
     "name": "stdout",
     "output_type": "stream",
     "text": [
      "[General]\n",
      "Version=131073\n",
      "displayName=New Group Policy Object\n",
      "\n",
      "O\u0000f\u0000f\u0000i\u0000c\u0000e\u0000 \u0000a\u0000d\u0000m\u0000i\u0000n\u0000s\u0000 \u0000c\u0000a\u0000n\u0000 \u0000s\u0000e\u0000t\u0000 \u0000t\u0000h\u0000e\u0000 \u0000w\u0000a\u0000l\u0000l\u0000p\u0000a\u0000p\u0000e\u0000r\u0000\n",
      "\n",
      "PReg\u0001\u0000\u0000\u0000[\u0000C\u0000o\u0000n\u0000t\u0000r\u0000o\u0000l\u0000 \u0000P\u0000a\u0000n\u0000e\u0000l\u0000\\\u0000C\u0000o\u0000l\u0000o\u0000r\u0000s\u0000\u0000\u0000;\u0000B\u0000a\u0000c\u0000k\u0000g\u0000r\u0000o\u0000u\u0000n\u0000d\u0000\u0000\u0000;\u0000\u0001\u0000\u0000\u0000;\u0000\u0018\u0000\u0000\u0000;\u00001\u00000\u00000\u0000 \u00001\u00007\u00005\u0000 \u00002\u00000\u00000\u0000\u0000\u0000]\u0000[\u0000C\u0000o\u0000n\u0000t\u0000r\u0000o\u0000l\u0000 \u0000P\u0000a\u0000n\u0000e\u0000l\u0000\\\u0000D\u0000e\u0000s\u0000k\u0000t\u0000o\u0000p\u0000\u0000\u0000;\u0000W\u0000a\u0000l\u0000l\u0000p\u0000a\u0000p\u0000e\u0000r\u0000\u0000\u0000;\u0000\u0001\u0000\u0000\u0000;\u0000\u0002\u0000\u0000\u0000;\u0000\u0000\u0000]\u0000\n"
     ]
    }
   ],
   "source": [
    "Get-Content .\\GPT.INI\n",
    "Write-Host\n",
    "Get-Content .\\GPO.cmt\n",
    "Write-Host\n",
    "Get-Content .\\User\\Registry.pol\n"
   ]
  },
  {
   "cell_type": "code",
   "execution_count": 31,
   "metadata": {
    "dotnet_interactive": {
     "language": "pwsh"
    },
    "polyglot_notebook": {
     "kernelName": "pwsh"
    },
    "vscode": {
     "languageId": "polyglot-notebook"
    }
   },
   "outputs": [
    {
     "name": "stdout",
     "output_type": "stream",
     "text": [
      "\n",
      "USER INFORMATION\n",
      "----------------\n",
      "\n",
      "User Name           SID                                          \n",
      "=================== =============================================\n",
      "gpoabuse\\jim.duggan S-1-5-21-979066922-3318582297-4097118301-1106\n",
      "\n",
      "\n",
      "GROUP INFORMATION\n",
      "-----------------\n",
      "\n",
      "Group Name                                      Type             SID                                           Attributes                                                     \n",
      "=============================================== ================ ============================================= ===============================================================\n",
      "Everyone                                        Well-known group S-1-1-0                                       Mandatory group, Enabled by default, Enabled group             \n",
      "BUILTIN\\Remote Management Users                 Alias            S-1-5-32-580                                  Mandatory group, Enabled by default, Enabled group             \n",
      "BUILTIN\\Users                                   Alias            S-1-5-32-545                                  Mandatory group, Enabled by default, Enabled group             \n",
      "NT AUTHORITY\\NETWORK                            Well-known group S-1-5-2                                       Mandatory group, Enabled by default, Enabled group             \n",
      "NT AUTHORITY\\Authenticated Users                Well-known group S-1-5-11                                      Mandatory group, Enabled by default, Enabled group             \n",
      "NT AUTHORITY\\This Organization                  Well-known group S-1-5-15                                      Mandatory group, Enabled by default, Enabled group             \n",
      "gpoabuse\\Policy Admins                          Group            S-1-5-21-979066922-3318582297-4097118301-1108 Mandatory group, Enabled by default, Enabled group             \n",
      "gpoabuse\\Group Policy Creator Owners            Group            S-1-5-21-979066922-3318582297-4097118301-520  Mandatory group, Enabled by default, Enabled group             \n",
      "Authentication authority asserted identity      Well-known group S-1-18-1                                      Mandatory group, Enabled by default, Enabled group             \n",
      "gpoabuse\\Denied RODC Password Replication Group Alias            S-1-5-21-979066922-3318582297-4097118301-572  Mandatory group, Enabled by default, Enabled group, Local Group\n",
      "Mandatory Label\\Medium Mandatory Level          Label            S-1-16-8192                                                                                                  \n",
      "\n",
      "\n",
      "PRIVILEGES INFORMATION\n",
      "----------------------\n",
      "\n",
      "Privilege Name                Description                          State  \n",
      "============================= ==================================== =======\n",
      "SeShutdownPrivilege           Shut down the system                 Enabled\n",
      "SeChangeNotifyPrivilege       Bypass traverse checking             Enabled\n",
      "SeUndockPrivilege             Remove computer from docking station Enabled\n",
      "SeIncreaseWorkingSetPrivilege Increase a process working set       Enabled\n",
      "SeTimeZonePrivilege           Change the time zone                 Enabled\n",
      "\n",
      "\n",
      "USER CLAIMS INFORMATION\n",
      "-----------------------\n",
      "\n",
      "User claims unknown.\n",
      "\n",
      "Kerberos support for Dynamic Access Control on this device has been disabled.\n"
     ]
    }
   ],
   "source": [
    "$credential = New-Object PSCredential(\"gpoabuse.lab\\jim.duggan\", $(ConvertTo-SecureString \"jimsPass01\" -AsPlainText -Force))\n",
    "Invoke-Command -ComputerName ws01.gpoabuse.lab -ScriptBlock { whoami /all } -Credential $credential"
   ]
  },
  {
   "cell_type": "markdown",
   "metadata": {},
   "source": [
    "## GPO Overview\n",
    "Group Policy is a mechanism for deploying computer and user specific configuraion across multiple machines within a network via Active Directory. These configuration items are stored both as a collection of files on a network share, and as an object within the Active Directory itself.\n",
    "\n",
    "The file share is known as SYSVOL, and specifc folder within this share is known as the Group Policy Template or GPT. The contents of the GPT are replicated across all domain controllers in the domain, so feasibly all DCs should have the copy of the same GPOs. \n",
    "\n",
    "The AD container for the GPO objects is called the Group Policy Container or GPC. The GPC contains information such as version of the GPO, whether it is disabled, and "
   ]
  },
  {
   "cell_type": "markdown",
   "metadata": {},
   "source": [
    "GPO linking"
   ]
  },
  {
   "cell_type": "markdown",
   "metadata": {},
   "source": [
    "GPO Scope"
   ]
  },
  {
   "cell_type": "markdown",
   "metadata": {},
   "source": [
    "GPO Processing is the action of taking a GPO and applying the configuration it specifies. Processing is broken into two parts; the core processing of a GPO firures\n",
    "\n",
    "Client side extensions (CSEs) are DLLs, that contain the appropriate functionality to actually make the changes to the operating system specified in the GPO. For example, the \n",
    "\n",
    "CSEs are loaded into the Group Policy Client Service\n",
    "\n",
    "\n",
    "| GUID | CSE |\n",
    "| ---- | --- |\n",
    "| 00000000-0000-0000-0000-000000000000 | Core GPO Engine |\n",
    "| 35378EAC-683F-11D2-A89A-00C04FBBCFA2 | Registry Settings |"
   ]
  },
  {
   "cell_type": "markdown",
   "metadata": {},
   "source": [
    "## Futher Reading\n",
    "\n",
    "MS docs on how group policy works:\n",
    "- [Group Policy Architecture](https://learn.microsoft.com/en-us/previous-versions/windows/desktop/policy/group-policy-architecture)\n",
    "\n",
    "Two brilliant sources for understandng GPO internals: \n",
    "- [A Red Teamers Guide to GPOs and OUs](https://posts.specterops.io/a-red-teamers-guide-to-gpos-and-ous-f0d03976a31e)\n",
    "- [Exploitating Windows Group Policy for Reconnaissance and Attack](https://www.youtube.com/watch?v=eoBeRkpj6TE)\n",
    "\n",
    "A nice overview of GPO persistence:\n",
    "- [Sneaky Active Directory Persistence #17: Group Policy](https://adsecurity.org/?p=2716)\n"
   ]
  }
 ],
 "metadata": {
  "kernelspec": {
   "display_name": ".NET (C#)",
   "language": "C#",
   "name": ".net-csharp"
  },
  "language_info": {
   "name": "python",
   "version": "3.12.3"
  },
  "polyglot_notebook": {
   "kernelInfo": {
    "defaultKernelName": "csharp",
    "items": [
     {
      "aliases": [],
      "name": "csharp"
     }
    ]
   }
  }
 },
 "nbformat": 4,
 "nbformat_minor": 2
}
