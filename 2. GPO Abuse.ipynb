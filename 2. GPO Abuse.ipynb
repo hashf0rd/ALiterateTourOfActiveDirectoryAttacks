{
 "cells": [
  {
   "cell_type": "code",
   "execution_count": 68,
   "metadata": {
    "dotnet_interactive": {
     "language": "pwsh"
    },
    "polyglot_notebook": {
     "kernelName": "pwsh"
    },
    "vscode": {
     "languageId": "polyglot-notebook"
    }
   },
   "outputs": [
    {
     "name": "stdout",
     "output_type": "stream",
     "text": [
      "CN=John Dee,OU=EnterpriseUsers,DC=gpoabuse,DC=lab\r\n"
     ]
    }
   ],
   "source": [
    "$dirEntry = New-Object System.DirectoryServices.DirectoryEntry(\"LDAP://dc01.gpoabuse.lab\", \"gpoabuse.lab\\john.dee\", \"johnsPass01\")\n",
    "$searcher = New-Object System.DirectoryServices.DirectorySearcher($dirEntry)\n",
    "$searcher.Filter = \"(&(objectCategory=user)(samAccountName=john.dee))\"\n",
    "$results = $searcher.FindOne()\n",
    "$results.Properties.distinguishedname\n"
   ]
  },
  {
   "cell_type": "code",
   "execution_count": 69,
   "metadata": {
    "dotnet_interactive": {
     "language": "pwsh"
    },
    "polyglot_notebook": {
     "kernelName": "pwsh"
    },
    "vscode": {
     "languageId": "polyglot-notebook"
    }
   },
   "outputs": [
    {
     "name": "stdout",
     "output_type": "stream",
     "text": [
      "OU=EnterpriseUsers,DC=gpoabuse,DC=lab\n",
      "LDAP://dc01.gpoabuse.lab/OU=EnterpriseUsers,DC=gpoabuse,DC=lab\n"
     ]
    }
   ],
   "source": [
    "$searcher.Filter = \"(&(objectCategory=organizationalUnit)(OU=EnterpriseUsers))\"\n",
    "$ou = $searcher.FindOne()\n",
    "$ou.Properties.distinguishedname\n",
    "$ou.Properties.adspath\n",
    "$dirEntry.Dispose()\n"
   ]
  },
  {
   "cell_type": "code",
   "execution_count": 79,
   "metadata": {
    "dotnet_interactive": {
     "language": "pwsh"
    },
    "polyglot_notebook": {
     "kernelName": "pwsh"
    },
    "vscode": {
     "languageId": "polyglot-notebook"
    }
   },
   "outputs": [
    {
     "name": "stdout",
     "output_type": "stream",
     "text": [
      "[LDAP://cn={12A2FC71-8C4A-4D1D-8424-14B30E4AE6B4},cn=policies,cn=system,DC=gpoabuse,DC=lab;0]\r\n"
     ]
    }
   ],
   "source": [
    "$ouEntry = New-Object System.DirectoryServices.DirectoryEntry(\"LDAP://dc01.gpoabuse.lab/OU=EnterpriseUsers,DC=gpoabuse,DC=lab\", \"gpoabuse.lab\\john.dee\", \"johnsPass01\")\n",
    "$ouEntry.Properties.gpLink\n"
   ]
  },
  {
   "cell_type": "code",
   "execution_count": 81,
   "metadata": {
    "dotnet_interactive": {
     "language": "pwsh"
    },
    "polyglot_notebook": {
     "kernelName": "pwsh"
    },
    "vscode": {
     "languageId": "polyglot-notebook"
    }
   },
   "outputs": [
    {
     "name": "stdout",
     "output_type": "stream",
     "text": [
      "\u001b[31;1mInvalidOperation: \u001b[0m\n",
      "\u001b[31;1m\u001b[36;1mLine |\u001b[0m\n",
      "\u001b[31;1m\u001b[36;1m\u001b[36;1m   3 | \u001b[0m \u001b[36;1m$searcher.PropertiesToLoad(\"All\")\u001b[0m\n",
      "\u001b[31;1m\u001b[36;1m\u001b[36;1m\u001b[0m\u001b[36;1m\u001b[0m\u001b[36;1m     | \u001b[31;1m ~~~~~~~~~~~~~~~~~~~~~~~~~~~~~~~~~\u001b[0m\n",
      "\u001b[31;1m\u001b[36;1m\u001b[36;1m\u001b[0m\u001b[36;1m\u001b[0m\u001b[36;1m\u001b[31;1m\u001b[31;1m\u001b[36;1m     | \u001b[31;1mMethod invocation failed because [System.DirectoryServices.DirectorySearcher] does not contain a method named 'PropertiesToLoad'.\u001b[0m\n"
     ]
    },
    {
     "ename": "Error",
     "evalue": "Method invocation failed because [System.DirectoryServices.DirectorySearcher] does not contain a method named 'PropertiesToLoad'.",
     "output_type": "error",
     "traceback": [
      "Method invocation failed because [System.DirectoryServices.DirectorySearcher] does not contain a method named 'PropertiesToLoad'."
     ]
    }
   ],
   "source": [
    "$searcher = New-Object System.DirectoryServices.DirectorySearcher($ouEntry)\n",
    "$searcher.Filter = \"(&(objectClass=groupPolicyContainer)(CN={12A2FC71-8C4A-4D1D-8424-14B30E4AE6B4}))\"\n",
    "$searcher.FindOne()\n"
   ]
  },
  {
   "cell_type": "code",
   "execution_count": null,
   "metadata": {
    "dotnet_interactive": {
     "language": "pwsh"
    },
    "polyglot_notebook": {
     "kernelName": "pwsh"
    },
    "vscode": {
     "languageId": "polyglot-notebook"
    }
   },
   "outputs": [],
   "source": [
    "\n"
   ]
  },
  {
   "cell_type": "markdown",
   "metadata": {},
   "source": [
    "## GPO Overview\n",
    "Group Policy is a mechanism for deploying computer and user specific configuraion across multiple machines within a network via Active Directory. These configuration items are stored both as a collection of files on a network share, and as an object within the Active Directory itself.\n",
    "\n",
    "The file share is known as SYSVOL, and specifc folder within this share is known as the Group Policy Template or GPT. The contents of the GPT are replicated across all domain controllers in the domain, so feasibly all DCs should have the copy of the same GPOs. \n",
    "\n",
    "The AD container for the GPO objects is called the Group Policy Container or GPC. The GPO object contains information such as version of the GPO, whether it is disabled, and "
   ]
  },
  {
   "cell_type": "markdown",
   "metadata": {},
   "source": [
    "GPO linking"
   ]
  },
  {
   "cell_type": "markdown",
   "metadata": {},
   "source": [
    "GPO Scope"
   ]
  },
  {
   "cell_type": "markdown",
   "metadata": {},
   "source": [
    "GPO Processing is the action of taking a GPO and applying the configuration it specifies. Processing is broken into two parts; the core processing of a GPO firures\n",
    "\n",
    "Client side extensions (CSEs) are DLLs, that contain the appropriate functionality to actually make the changes to the operating system specified in the GPO. For example, the \n",
    "\n",
    "CSEs are loaded into the Group Policy Client Service\n",
    "\n",
    "\n",
    "| GUID | CSE |\n",
    "| ---- | --- |\n",
    "| 00000000-0000-0000-0000-000000000000 | Core GPO Engine |\n",
    "| 35378EAC-683F-11D2-A89A-00C04FBBCFA2 | Registry Settings |"
   ]
  },
  {
   "cell_type": "markdown",
   "metadata": {},
   "source": [
    "## Futher Reading\n",
    "\n",
    "MS docs on how group policy works:\n",
    "- [Group Policy Architecture](https://learn.microsoft.com/en-us/previous-versions/windows/desktop/policy/group-policy-architecture)\n",
    "\n",
    "Two brilliant sources for understandng GPO internals: \n",
    "- [A Red Teamers Guide to GPOs and OUs](https://posts.specterops.io/a-red-teamers-guide-to-gpos-and-ous-f0d03976a31e)\n",
    "- [Exploitating Windows Group Policy for Reconnaissance and Attack](https://www.youtube.com/watch?v=eoBeRkpj6TE)\n",
    "\n",
    "A nice overview of GPO persistence:\n",
    "- [Sneaky Active Directory Persistence #17: Group Policy](https://adsecurity.org/?p=2716)\n"
   ]
  }
 ],
 "metadata": {
  "kernelspec": {
   "display_name": ".NET (C#)",
   "language": "C#",
   "name": ".net-csharp"
  },
  "language_info": {
   "name": "python"
  },
  "polyglot_notebook": {
   "kernelInfo": {
    "defaultKernelName": "csharp",
    "items": [
     {
      "aliases": [],
      "name": "csharp"
     }
    ]
   }
  }
 },
 "nbformat": 4,
 "nbformat_minor": 2
}
