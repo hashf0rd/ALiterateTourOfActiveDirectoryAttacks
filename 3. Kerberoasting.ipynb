{
 "cells": [
  {
   "cell_type": "markdown",
   "metadata": {},
   "source": [
    "## Kerberoasting Overview\n",
    "Kerberoasting is an incredibly mature technique for bypassing the encryption schemes used in Kerberos authentication. Kerberos authentication is the primary authentication mechanism used in Active Directory, to understand it requires something of a deep dive into Active Directory authentication flows.\n",
    "\n",
    "Ticket granting tickets\n",
    "\n",
    "Session tickets\n",
    "\n",
    "Ticket granting server\n",
    "\n",
    "Ticket encryption"
   ]
  },
  {
   "cell_type": "markdown",
   "metadata": {},
   "source": []
  }
 ],
 "metadata": {
  "language_info": {
   "name": "python"
  }
 },
 "nbformat": 4,
 "nbformat_minor": 2
}
